{
 "cells": [
  {
   "cell_type": "code",
   "execution_count": 108,
   "id": "c46c17ce-3295-4cbe-9b2a-afbea309e1de",
   "metadata": {},
   "outputs": [],
   "source": [
    "import pandas as pd\n",
    "import numpy as np\n",
    "import matplotlib.pyplot as plt"
   ]
  },
  {
   "cell_type": "code",
   "execution_count": 109,
   "id": "0d83e32e",
   "metadata": {},
   "outputs": [],
   "source": [
    "df = pd.read_csv('', low_memory= False, encoding='latin-1')"
   ]
  },
  {
   "cell_type": "code",
   "execution_count": null,
   "id": "c8bf4d16",
   "metadata": {},
   "outputs": [],
   "source": [
    "# \"Job ID\",\"Job Status\",\"Job Klass\",\"Job Hardware ID\",\"Job Operation\",\"Job Created\",\"Job Updated\",\n",
    "#\"Job Duration in Seconds\",\"Job Ticket ID\",\"Hardware ID\",\"Hardware Name\",\"Hardware Image ID\",\n",
    "#\"Hardware Solution ID\",\"Hardware Site ID\",\"Image ID\",\"Image Name\",\"Site ID\",\"Site Name\",\"Ticket Site Name\",\n",
    "#\"First Site Name\",\"Solution ID\",\"Solution Name\",\"Ticket ID\",\"Ticket Site\",\"Hardware Compute Config ID\",\n",
    "#\"Compute Config ID\",\"Compute Config Name\",\"Compute Config CPU\",\"Compute Config Memory\",\"Compute Config Disk\",\n",
    "#\"Compute Config SKU\""
   ]
  },
  {
   "cell_type": "code",
   "execution_count": null,
   "id": "a744a087",
   "metadata": {},
   "outputs": [],
   "source": [
    "#ticket site, site name, solution name, hardware name/id, job created (in years/months)\n",
    "#df_year_2021 = df_main.loc[(df_main['Job Created'] <= \"2022-01-01 00:00:00.000000\") & (df_main['Job Created'] >= \"2021-01-01 00:00:00.000000\")]"
   ]
  },
  {
   "cell_type": "code",
   "execution_count": null,
   "id": "54b4d517",
   "metadata": {},
   "outputs": [],
   "source": [
    "df_new = df[[ 'Job ID','Hardware ID', 'Hardware Name', 'Solution Name', 'Ticket Site','Site Name', 'Job Created']]\n",
    "df_new"
   ]
  },
  {
   "cell_type": "code",
   "execution_count": 154,
   "id": "7ccbb827",
   "metadata": {},
   "outputs": [],
   "source": [
    "df_new2018_dict = {}\n",
    "\n",
    "start = \"2018-01-01 00:00:00.000000\"\n",
    "end = \"2019-01-01 00:00:00.000000\"\n",
    "\n",
    "for i in range(12):\n",
    "    monthstart = f\"2018-{i+1:02d}-01\"\n",
    "    monthend = f\"2018-{i+2:02d}-01\" if i < 11 else \"2019-01-01\"\n",
    "\n",
    "    df_new2018_dict[f'df_new2018_{i+1}'] = df_new.loc[(df_new['Job Created'] >= monthstart) & (df_new['Job Created'] < monthend)]\n",
    "\n",
    "# lengths = {key: len(df) for key, df in df_new2018_dict.items()}\n",
    "df2018j = len(df_new2018_dict['df_new2018_1'])\n",
    "df2018f = len(df_new2018_dict['df_new2018_2'])\n",
    "df2018m = len(df_new2018_dict['df_new2018_3'])\n",
    "df2018a = len(df_new2018_dict['df_new2018_4'])\n",
    "df2018ma = len(df_new2018_dict['df_new2018_5'])\n",
    "df2018ju = len(df_new2018_dict['df_new2018_6'])\n",
    "df2018jy = len(df_new2018_dict['df_new2018_7'])\n",
    "df2018au = len(df_new2018_dict['df_new2018_8'])\n",
    "df2018s = len(df_new2018_dict['df_new2018_9'])\n",
    "df2018o = len(df_new2018_dict['df_new2018_10'])\n",
    "df2018n = len(df_new2018_dict['df_new2018_11'])\n",
    "df2018d = len(df_new2018_dict['df_new2018_12'])\n",
    "\n",
    "\n",
    "# print(df2018f)"
   ]
  },
  {
   "cell_type": "code",
   "execution_count": null,
   "id": "33186dc8",
   "metadata": {},
   "outputs": [],
   "source": [
    "#0, 0, 0, 1, 0, 3015, 3440, 5715, 6728, 4885, 4260, 3599\n",
    "#31643"
   ]
  },
  {
   "cell_type": "code",
   "execution_count": null,
   "id": "30ab50e2",
   "metadata": {},
   "outputs": [],
   "source": [
    "# df_new2018 = df_new.loc[(df_new['Job Created'] <= \"2019-01-01 00:00:00.000000\") & (df_new['Job Created'] >= \"2018-01-01 00:00:00.000000\")]\n",
    "\n",
    "# df_new2018_1 = df_new.loc[(df_new['Job Created'] <= \"2018-02-01 00:00:00.000000\") & (df_new['Job Created'] >= \"2018-01-01 00:00:00.000000\")]\n",
    "# df_new2018_2 = df_new.loc[(df_new['Job Created'] <= \"2018-03-01 00:00:00.000000\") & (df_new['Job Created'] >= \"2018-02-01 00:00:00.000000\")]\n",
    "# df_new2018_3 = df_new.loc[(df_new['Job Created'] <= \"2018-04-01 00:00:00.000000\") & (df_new['Job Created'] >= \"2018-03-01 00:00:00.000000\")]\n",
    "# df_new2018_4 = df_new.loc[(df_new['Job Created'] <= \"2018-05-01 00:00:00.000000\") & (df_new['Job Created'] >= \"2018-04-01 00:00:00.000000\")]\n",
    "# df_new2018_5 = df_new.loc[(df_new['Job Created'] <= \"2018-06-01 00:00:00.000000\") & (df_new['Job Created'] >= \"2018-05-01 00:00:00.000000\")]\n",
    "# df_new2018_6 = df_new.loc[(df_new['Job Created'] <= \"2018-07-01 00:00:00.000000\") & (df_new['Job Created'] >= \"2018-06-01 00:00:00.000000\")]\n",
    "# df_new2018_7 = df_new.loc[(df_new['Job Created'] <= \"2018-08-01 00:00:00.000000\") & (df_new['Job Created'] >= \"2018-07-01 00:00:00.000000\")]\n",
    "# df_new2018_8 = df_new.loc[(df_new['Job Created'] <= \"2018-09-01 00:00:00.000000\") & (df_new['Job Created'] >= \"2018-08-01 00:00:00.000000\")]\n",
    "# df_new2018_9 = df_new.loc[(df_new['Job Created'] <= \"2018-10-01 00:00:00.000000\") & (df_new['Job Created'] >= \"2018-09-01 00:00:00.000000\")]\n",
    "# df_new2018_10 = df_new.loc[(df_new['Job Created'] <= \"2018-11-01 00:00:00.000000\") & (df_new['Job Created'] >= \"2018-10-01 00:00:00.000000\")]\n",
    "# df_new2018_11 = df_new.loc[(df_new['Job Created'] <= \"2018-12-01 00:00:00.000000\") & (df_new['Job Created'] >= \"2018-11-01 00:00:00.000000\")]\n",
    "# df_new2018_12 = df_new.loc[(df_new['Job Created'] <= \"2019-01-01 00:00:00.000000\") & (df_new['Job Created'] >= \"2018-12-01 00:00:00.000000\")]\n",
    "\n",
    "# df2018j = len(df_new2018_1)\n",
    "# df2018f = len(df_new2018_2)\n",
    "# df2018m = len(df_new2018_3)\n",
    "# df2018a = len(df_new2018_4)\n",
    "# df2018ma = len(df_new2018_5)\n",
    "# df2018ju = len(df_new2018_6)\n",
    "# df2018jy = len(df_new2018_7)\n",
    "# df2018au = len(df_new2018_8)\n",
    "# df2018s = len(df_new2018_9)\n",
    "# df2018o = len(df_new2018_10)\n",
    "# df2018n = len(df_new2018_11)\n",
    "# df2018d = len(df_new2018_12)\n",
    "\n",
    "# print(df2018o)"
   ]
  },
  {
   "cell_type": "code",
   "execution_count": null,
   "id": "013bcff9",
   "metadata": {},
   "outputs": [],
   "source": [
    "len(df_new2018)"
   ]
  },
  {
   "cell_type": "code",
   "execution_count": null,
   "id": "47a9b98b",
   "metadata": {},
   "outputs": [],
   "source": [
    "#no loop\n",
    "numberofjobspermonth2018 = [df2018j, df2018f, df2018m, df2018a, df2018m, df2018ju, df2018jy, df2018au, df2018s, df2018o, df2018n, df2018d]\n",
    "yearly_index = ['Jan', 'Feb', 'Mar', 'Apr', 'May', 'Jun', 'Jul', 'Aug', 'Sep', 'Oct', 'Nov', 'Dec']\n",
    "\n",
    "yearly_df = pd.DataFrame({'Number of Jobs' : numberofjobspermonth2018}, index=yearly_index)\n",
    "\n",
    "ax = yearly_df.plot.bar(rot=0, title = 'Amount of servers requested per month, 2018')"
   ]
  },
  {
   "cell_type": "code",
   "execution_count": 160,
   "id": "d7d3bad0",
   "metadata": {},
   "outputs": [],
   "source": [
    "df_new2019 = df_new.loc[(df_new['Job Created'] <= \"2020-01-01 00:00:00.000000\") & (df_new['Job Created'] >= \"2019-01-01 00:00:00.000000\")]\n",
    "\n",
    "df_new2019_1 = df_new.loc[(df_new['Job Created'] <= \"2019-02-01 00:00:00.000000\") & (df_new['Job Created'] >= \"2019-01-01 00:00:00.000000\")]\n",
    "df_new2019_2 = df_new.loc[(df_new['Job Created'] <= \"2019-03-01 00:00:00.000000\") & (df_new['Job Created'] >= \"2019-02-01 00:00:00.000000\")]\n",
    "df_new2019_3 = df_new.loc[(df_new['Job Created'] <= \"2019-04-01 00:00:00.000000\") & (df_new['Job Created'] >= \"2019-03-01 00:00:00.000000\")]\n",
    "df_new2019_4 = df_new.loc[(df_new['Job Created'] <= \"2019-05-01 00:00:00.000000\") & (df_new['Job Created'] >= \"2019-04-01 00:00:00.000000\")]\n",
    "df_new2019_5 = df_new.loc[(df_new['Job Created'] <= \"2019-06-01 00:00:00.000000\") & (df_new['Job Created'] >= \"2019-05-01 00:00:00.000000\")]\n",
    "df_new2019_6 = df_new.loc[(df_new['Job Created'] <= \"2019-07-01 00:00:00.000000\") & (df_new['Job Created'] >= \"2019-06-01 00:00:00.000000\")]\n",
    "df_new2019_7 = df_new.loc[(df_new['Job Created'] <= \"2019-08-01 00:00:00.000000\") & (df_new['Job Created'] >= \"2019-07-01 00:00:00.000000\")]\n",
    "df_new2019_8 = df_new.loc[(df_new['Job Created'] <= \"2019-09-01 00:00:00.000000\") & (df_new['Job Created'] >= \"2019-08-01 00:00:00.000000\")]\n",
    "df_new2019_9 = df_new.loc[(df_new['Job Created'] <= \"2019-10-01 00:00:00.000000\") & (df_new['Job Created'] >= \"2019-09-01 00:00:00.000000\")]\n",
    "df_new2019_10 = df_new.loc[(df_new['Job Created'] <= \"2019-11-01 00:00:00.000000\") & (df_new['Job Created'] >= \"2019-10-01 00:00:00.000000\")]\n",
    "df_new2019_11 = df_new.loc[(df_new['Job Created'] <= \"2019-12-01 00:00:00.000000\") & (df_new['Job Created'] >= \"2019-11-01 00:00:00.000000\")]\n",
    "df_new2019_12 = df_new.loc[(df_new['Job Created'] <= \"2020-01-01 00:00:00.000000\") & (df_new['Job Created'] >= \"2019-12-01 00:00:00.000000\")]\n",
    "\n",
    "df2019j = len(df_new2019_1)\n",
    "df2019f = len(df_new2019_2)\n",
    "df2019m = len(df_new2019_3)\n",
    "df2019a = len(df_new2019_4)\n",
    "df2019ma = len(df_new2019_5)\n",
    "df2019ju = len(df_new2019_6)\n",
    "df2019jy = len(df_new2019_7)\n",
    "df2019au = len(df_new2019_8)\n",
    "df2019s = len(df_new2019_9)\n",
    "df2019o = len(df_new2019_10)\n",
    "df2019n = len(df_new2019_11)\n",
    "df2019d = len(df_new2019_12)\n",
    "\n"
   ]
  },
  {
   "cell_type": "code",
   "execution_count": null,
   "id": "ec75be4e",
   "metadata": {},
   "outputs": [],
   "source": [
    "numberofjobspermonth2019 = [df2019j, df2019f, df2019m, df2019a, df2019m, df2019ju, df2019jy, df2019au, df2019s, df2019o, df2019n, df2019d]\n",
    "yearly_index = ['Jan', 'Feb', 'Mar', 'Apr', 'May', 'Jun', 'Jul', 'Aug', 'Sep', 'Oct', 'Nov', 'Dec']\n",
    "\n",
    "yearly_df = pd.DataFrame({'Number of Jobs' : numberofjobspermonth2019}, index=yearly_index)\n",
    "\n",
    "ax = yearly_df.plot.bar(rot=0, title = 'Amount of servers requested per month, 2019')"
   ]
  },
  {
   "cell_type": "code",
   "execution_count": 161,
   "id": "fdcf8944",
   "metadata": {},
   "outputs": [],
   "source": [
    "df_new2020 = df_new.loc[(df_new['Job Created'] <= \"2021-01-01 00:00:00.000000\") & (df_new['Job Created'] >= \"2020-01-01 00:00:00.000000\")]\n",
    "\n",
    "df_new2020_1 = df_new.loc[(df_new['Job Created'] <= \"2020-02-01 00:00:00.000000\") & (df_new['Job Created'] >= \"2020-01-01 00:00:00.000000\")]\n",
    "df_new2020_2 = df_new.loc[(df_new['Job Created'] <= \"2020-03-01 00:00:00.000000\") & (df_new['Job Created'] >= \"2020-02-01 00:00:00.000000\")]\n",
    "df_new2020_3 = df_new.loc[(df_new['Job Created'] <= \"2020-04-01 00:00:00.000000\") & (df_new['Job Created'] >= \"2020-03-01 00:00:00.000000\")]\n",
    "df_new2020_4 = df_new.loc[(df_new['Job Created'] <= \"2020-05-01 00:00:00.000000\") & (df_new['Job Created'] >= \"2020-04-01 00:00:00.000000\")]\n",
    "df_new2020_5 = df_new.loc[(df_new['Job Created'] <= \"2020-06-01 00:00:00.000000\") & (df_new['Job Created'] >= \"2020-05-01 00:00:00.000000\")]\n",
    "df_new2020_6 = df_new.loc[(df_new['Job Created'] <= \"2020-07-01 00:00:00.000000\") & (df_new['Job Created'] >= \"2020-06-01 00:00:00.000000\")]\n",
    "df_new2020_7 = df_new.loc[(df_new['Job Created'] <= \"2020-08-01 00:00:00.000000\") & (df_new['Job Created'] >= \"2020-07-01 00:00:00.000000\")]\n",
    "df_new2020_8 = df_new.loc[(df_new['Job Created'] <= \"2020-09-01 00:00:00.000000\") & (df_new['Job Created'] >= \"2020-08-01 00:00:00.000000\")]\n",
    "df_new2020_9 = df_new.loc[(df_new['Job Created'] <= \"2020-10-01 00:00:00.000000\") & (df_new['Job Created'] >= \"2020-09-01 00:00:00.000000\")]\n",
    "df_new2020_10 = df_new.loc[(df_new['Job Created'] <= \"2020-11-01 00:00:00.000000\") & (df_new['Job Created'] >= \"2020-10-01 00:00:00.000000\")]\n",
    "df_new2020_11 = df_new.loc[(df_new['Job Created'] <= \"2020-12-01 00:00:00.000000\") & (df_new['Job Created'] >= \"2020-11-01 00:00:00.000000\")]\n",
    "df_new2020_12 = df_new.loc[(df_new['Job Created'] <= \"2021-01-01 00:00:00.000000\") & (df_new['Job Created'] >= \"2020-12-01 00:00:00.000000\")]\n",
    "\n",
    "df2020j = len(df_new2020_1)\n",
    "df2020f = len(df_new2020_2)\n",
    "df2020m = len(df_new2020_3)\n",
    "df2020a = len(df_new2020_4)\n",
    "df2020ma = len(df_new2020_5)\n",
    "df2020ju = len(df_new2020_6)\n",
    "df2020jy = len(df_new2020_7)\n",
    "df2020au = len(df_new2020_8)\n",
    "df2020s = len(df_new2020_9)\n",
    "df2020o = len(df_new2020_10)\n",
    "df2020n = len(df_new2020_11)\n",
    "df2020d = len(df_new2020_12)\n"
   ]
  },
  {
   "cell_type": "code",
   "execution_count": null,
   "id": "edb9dbc9",
   "metadata": {},
   "outputs": [],
   "source": [
    "numberofjobspermonth2020 = [df2020j, df2020f, df2020m, df2020a, df2020m, df2020ju, df2020jy, df2020au, df2020s, df2020o, df2020n, df2020d]\n",
    "yearly_index = ['Jan', 'Feb', 'Mar', 'Apr', 'May', 'Jun', 'Jul', 'Aug', 'Sep', 'Oct', 'Nov', 'Dec']\n",
    "\n",
    "yearly_df = pd.DataFrame({'Number of Jobs' : numberofjobspermonth2020}, index=yearly_index)\n",
    "\n",
    "ax = yearly_df.plot.bar(rot=0, title = 'Amount of servers requested per month, 2020')"
   ]
  },
  {
   "cell_type": "code",
   "execution_count": 162,
   "id": "b3571da1",
   "metadata": {},
   "outputs": [],
   "source": [
    "df_new2021 = df_new.loc[(df_new['Job Created'] <= \"2022-01-01 00:00:00.000000\") & (df_new['Job Created'] >= \"2021-01-01 00:00:00.000000\")]\n",
    "\n",
    "df_new2021_1 = df_new.loc[(df_new['Job Created'] <= \"2021-02-01 00:00:00.000000\") & (df_new['Job Created'] >= \"2021-01-01 00:00:00.000000\")]\n",
    "df_new2021_2 = df_new.loc[(df_new['Job Created'] <= \"2021-03-01 00:00:00.000000\") & (df_new['Job Created'] >= \"2021-02-01 00:00:00.000000\")]\n",
    "df_new2021_3 = df_new.loc[(df_new['Job Created'] <= \"2021-04-01 00:00:00.000000\") & (df_new['Job Created'] >= \"2021-03-01 00:00:00.000000\")]\n",
    "df_new2021_4 = df_new.loc[(df_new['Job Created'] <= \"2021-05-01 00:00:00.000000\") & (df_new['Job Created'] >= \"2021-04-01 00:00:00.000000\")]\n",
    "df_new2021_5 = df_new.loc[(df_new['Job Created'] <= \"2021-06-01 00:00:00.000000\") & (df_new['Job Created'] >= \"2021-05-01 00:00:00.000000\")]\n",
    "df_new2021_6 = df_new.loc[(df_new['Job Created'] <= \"2021-07-01 00:00:00.000000\") & (df_new['Job Created'] >= \"2021-06-01 00:00:00.000000\")]\n",
    "df_new2021_7 = df_new.loc[(df_new['Job Created'] <= \"2021-08-01 00:00:00.000000\") & (df_new['Job Created'] >= \"2021-07-01 00:00:00.000000\")]\n",
    "df_new2021_8 = df_new.loc[(df_new['Job Created'] <= \"2021-09-01 00:00:00.000000\") & (df_new['Job Created'] >= \"2021-08-01 00:00:00.000000\")]\n",
    "df_new2021_9 = df_new.loc[(df_new['Job Created'] <= \"2021-10-01 00:00:00.000000\") & (df_new['Job Created'] >= \"2021-09-01 00:00:00.000000\")]\n",
    "df_new2021_10 = df_new.loc[(df_new['Job Created'] <= \"2021-11-01 00:00:00.000000\") & (df_new['Job Created'] >= \"2021-10-01 00:00:00.000000\")]\n",
    "df_new2021_11 = df_new.loc[(df_new['Job Created'] <= \"2021-12-01 00:00:00.000000\") & (df_new['Job Created'] >= \"2021-11-01 00:00:00.000000\")]\n",
    "df_new2021_12 = df_new.loc[(df_new['Job Created'] <= \"2022-01-01 00:00:00.000000\") & (df_new['Job Created'] >= \"2021-12-01 00:00:00.000000\")]\n",
    "\n",
    "df2021j = len(df_new2021_1)\n",
    "df2021f = len(df_new2021_2)\n",
    "df2021m = len(df_new2021_3)\n",
    "df2021a = len(df_new2021_4)\n",
    "df2021ma = len(df_new2021_5)\n",
    "df2021ju = len(df_new2021_6)\n",
    "df2021jy = len(df_new2021_7)\n",
    "df2021au = len(df_new2021_8)\n",
    "df2021s = len(df_new2021_9)\n",
    "df2021o = len(df_new2021_10)\n",
    "df2021n = len(df_new2021_11)\n",
    "df2021d = len(df_new2021_12)\n",
    "\n"
   ]
  },
  {
   "cell_type": "code",
   "execution_count": null,
   "id": "2b0c955e",
   "metadata": {},
   "outputs": [],
   "source": [
    "numberofjobspermonth2021 = [df2021j, df2021f, df2021m, df2021a, df2021m, df2021ju, df2021jy, df2021au, df2021s, df2021o, df2021n, df2021d]\n",
    "yearly_index = ['Jan', 'Feb', 'Mar', 'Apr', 'May', 'Jun', 'Jul', 'Aug', 'Sep', 'Oct', 'Nov', 'Dec']\n",
    "\n",
    "yearly_df = pd.DataFrame({'Number of Jobs' : numberofjobspermonth2021}, index=yearly_index)\n",
    "\n",
    "ax = yearly_df.plot.bar(rot=0, title = 'Amount of servers requested per month, 2021')"
   ]
  },
  {
   "cell_type": "code",
   "execution_count": 163,
   "id": "b9315ca3",
   "metadata": {},
   "outputs": [],
   "source": [
    "df_new2022 = df_new.loc[(df_new['Job Created'] <= \"2023-01-01 00:00:00.000000\") & (df_new['Job Created'] >= \"2022-01-01 00:00:00.000000\")]\n",
    "\n",
    "df_new2022_1 = df_new.loc[(df_new['Job Created'] <= \"2022-02-01 00:00:00.000000\") & (df_new['Job Created'] >= \"2022-01-01 00:00:00.000000\")]\n",
    "df_new2022_2 = df_new.loc[(df_new['Job Created'] <= \"2022-03-01 00:00:00.000000\") & (df_new['Job Created'] >= \"2022-02-01 00:00:00.000000\")]\n",
    "df_new2022_3 = df_new.loc[(df_new['Job Created'] <= \"2022-04-01 00:00:00.000000\") & (df_new['Job Created'] >= \"2022-03-01 00:00:00.000000\")]\n",
    "df_new2022_4 = df_new.loc[(df_new['Job Created'] <= \"2022-05-01 00:00:00.000000\") & (df_new['Job Created'] >= \"2022-04-01 00:00:00.000000\")]\n",
    "df_new2022_5 = df_new.loc[(df_new['Job Created'] <= \"2022-06-01 00:00:00.000000\") & (df_new['Job Created'] >= \"2022-05-01 00:00:00.000000\")]\n",
    "df_new2022_6 = df_new.loc[(df_new['Job Created'] <= \"2022-07-01 00:00:00.000000\") & (df_new['Job Created'] >= \"2022-06-01 00:00:00.000000\")]\n",
    "df_new2022_7 = df_new.loc[(df_new['Job Created'] <= \"2022-08-01 00:00:00.000000\") & (df_new['Job Created'] >= \"2022-07-01 00:00:00.000000\")]\n",
    "df_new2022_8 = df_new.loc[(df_new['Job Created'] <= \"2022-09-01 00:00:00.000000\") & (df_new['Job Created'] >= \"2022-08-01 00:00:00.000000\")]\n",
    "df_new2022_9 = df_new.loc[(df_new['Job Created'] <= \"2022-10-01 00:00:00.000000\") & (df_new['Job Created'] >= \"2022-09-01 00:00:00.000000\")]\n",
    "df_new2022_10 = df_new.loc[(df_new['Job Created'] <= \"2022-11-01 00:00:00.000000\") & (df_new['Job Created'] >= \"2022-10-01 00:00:00.000000\")]\n",
    "df_new2022_11 = df_new.loc[(df_new['Job Created'] <= \"2022-12-01 00:00:00.000000\") & (df_new['Job Created'] >= \"2022-11-01 00:00:00.000000\")]\n",
    "df_new2022_12 = df_new.loc[(df_new['Job Created'] <= \"2023-01-01 00:00:00.000000\") & (df_new['Job Created'] >= \"2022-12-01 00:00:00.000000\")]\n",
    "\n",
    "df2022j = len(df_new2022_1)\n",
    "df2022f = len(df_new2022_2)\n",
    "df2022m = len(df_new2022_3)\n",
    "df2022a = len(df_new2022_4)\n",
    "df2022ma = len(df_new2022_5)\n",
    "df2022ju = len(df_new2022_6)\n",
    "df2022jy = len(df_new2022_7)\n",
    "df2022au = len(df_new2022_8)\n",
    "df2022s = len(df_new2022_9)\n",
    "df2022o = len(df_new2022_10)\n",
    "df2022n = len(df_new2022_11)\n",
    "df2022d = len(df_new2022_12)\n",
    "\n"
   ]
  },
  {
   "cell_type": "code",
   "execution_count": null,
   "id": "ee6c3400",
   "metadata": {},
   "outputs": [],
   "source": [
    "numberofjobspermonth2022 = [df2022j, df2022f, df2022m, df2022a, df2022m, df2022ju, df2022jy, df2022au, df2022s, df2022o, df2022n, df2022d]\n",
    "yearly_index = ['Jan', 'Feb', 'Mar', 'Apr', 'May', 'Jun', 'Jul', 'Aug', 'Sep', 'Oct', 'Nov', 'Dec']\n",
    "\n",
    "yearly_df = pd.DataFrame({'Number of Jobs' : numberofjobspermonth2021}, index=yearly_index)\n",
    "\n",
    "ax = yearly_df.plot.bar(rot=0, title = 'Amount of servers requested per month, 2022')"
   ]
  },
  {
   "cell_type": "code",
   "execution_count": 25,
   "id": "0fb9e2ec",
   "metadata": {},
   "outputs": [],
   "source": [
    "jobs2018= df_new2018['Job ID'].unique()\n",
    "jobsper2018 = len(jobs2018)"
   ]
  },
  {
   "cell_type": "code",
   "execution_count": 26,
   "id": "a51f43b2",
   "metadata": {},
   "outputs": [],
   "source": [
    "jobs2019= df_new2019['Job ID'].unique()\n",
    "jobsper2019 = len(jobs2019)"
   ]
  },
  {
   "cell_type": "code",
   "execution_count": 27,
   "id": "25d0230c",
   "metadata": {},
   "outputs": [],
   "source": [
    "jobs2020= df_new2020['Job ID'].unique()\n",
    "jobsper2020 = len(jobs2020)"
   ]
  },
  {
   "cell_type": "code",
   "execution_count": 32,
   "id": "0cf07e3e",
   "metadata": {},
   "outputs": [],
   "source": [
    "jobs2021= df_new2021['Job ID'].unique()\n",
    "jobsper2021 = len(jobs2021)"
   ]
  },
  {
   "cell_type": "code",
   "execution_count": 33,
   "id": "171905db",
   "metadata": {},
   "outputs": [],
   "source": [
    "jobs2022= df_new2022['Job ID'].unique()\n",
    "jobsper2022 = len(jobs2022)"
   ]
  },
  {
   "cell_type": "code",
   "execution_count": null,
   "id": "af8e41f8",
   "metadata": {},
   "outputs": [],
   "source": [
    "numberofjobsperyear = [jobsper2018, jobsper2019, jobsper2020, jobsper2021, jobsper2022]\n",
    "yearly_index = ['2018', '2019', '2020', '2021', '2022']\n",
    "\n",
    "yearly_df = pd.DataFrame({'Number of Jobs' : numberofjobsperyear}, index=yearly_index)\n",
    "\n",
    "ax = yearly_df.plot.bar(rot=0, title = 'Amount of servers requested per year')"
   ]
  },
  {
   "cell_type": "code",
   "execution_count": 38,
   "id": "ff5c8ab4",
   "metadata": {},
   "outputs": [
    {
     "data": {
      "text/plain": [
       "array(['CTC-KC-III', 'STCK-25-DC01', 'CTC-LS-IV', 'CTC-KC-I', 'CTC-LS-VI',\n",
       "       'SLOUGHEQUINIXLD5-DC1', 'CTC-LS-III', 'CTC-KC-II', 'CTC-KC-VIII',\n",
       "       'MARK-371-FL01', 'CTC-LS-V', 'CTC-KC-VII', nan, 'WGC-20-FL01',\n",
       "       'CTC-LS-II', 'CTC-KCBUILD1', 'BRISISEEKEAGLE-DC1', 'CLIENT-SITE',\n",
       "       'UPPLANDS-DS1-DC02', 'BRMP-30-FL01', 'Unanderra-IT3',\n",
       "       'PAN-110-DC01', 'CTC-LS-IV ', 'CTC-LS-I', 'KALR-39-FL04',\n",
       "       'MLVN-35-DC01', 'BRISISEEKWLNGABA-DC1', 'BRLN-50-DC01'],\n",
       "      dtype=object)"
      ]
     },
     "execution_count": 38,
     "metadata": {},
     "output_type": "execute_result"
    }
   ],
   "source": [
    "df3 = df['Ticket Site Name'].unique()\n",
    "df3"
   ]
  },
  {
   "cell_type": "code",
   "execution_count": 41,
   "id": "006c4d6d",
   "metadata": {},
   "outputs": [],
   "source": [
    "df_ticketsite1 = df[(df['Ticket Site Name']=='CTC-KC-III')]\n",
    "df_ticketsite2 = df[(df['Ticket Site Name']=='STCK-25-DC01')]\n",
    "df_ticketsite3 = df[(df['Ticket Site Name']=='CTC-LS-IV')]\n",
    "df_ticketsite4 = df[(df['Ticket Site Name']=='CTC-KC-I')]\n",
    "df_ticketsite5 = df[(df['Ticket Site Name']=='CTC-LS-VI')]\n",
    "df_ticketsite6 = df[(df['Ticket Site Name']=='SLOUGHEQUINIXLD5-DC1')]\n",
    "df_ticketsite7 = df[(df['Ticket Site Name']=='CTC-LS-III')]\n",
    "df_ticketsite8 = df[(df['Ticket Site Name']=='CTC-KC-II')]\n",
    "df_ticketsite9 = df[(df['Ticket Site Name']=='CTC-KC-VIII')]\n",
    "df_ticketsite10 = df[(df['Ticket Site Name']=='MARK-371-FL01')]\n",
    "ts1 = len(df_ticketsite1)\n",
    "ts2 = len(df_ticketsite2)\n",
    "ts3 = len(df_ticketsite3)\n",
    "ts4 = len(df_ticketsite4)\n",
    "ts5 = len(df_ticketsite5)\n",
    "ts6 = len(df_ticketsite6)\n",
    "ts7 = len(df_ticketsite7)\n",
    "ts8 = len(df_ticketsite8)\n",
    "ts9 = len(df_ticketsite9)\n",
    "ts10 = len(df_ticketsite10)\n"
   ]
  },
  {
   "cell_type": "code",
   "execution_count": null,
   "id": "1aa159cb",
   "metadata": {},
   "outputs": [],
   "source": [
    "numberofjobsatgivendcen = [ts1, ts2, ts3, ts4, ts5, ts6, ts7, ts8, ts9, ts10]\n",
    "yearly_index = ['CTC-KC-III', 'STCK-25-DC01', 'CTC-LS-IV', 'CTC-KC-I', 'CTC-LS-VI',\n",
    "       'SLOUGHEQUINIXLD5-DC1', 'CTC-LS-III', 'CTC-KC-II', 'CTC-KC-VIII',\n",
    "       'MARK-371-FL01']\n",
    "\n",
    "yearly_df = pd.DataFrame({'Number requested' : numberofjobsatgivendcen}, index = yearly_index)\n",
    "\n",
    "ax = yearly_df.plot.bar(rot=0, title = 'Amount of servers requested per center total')"
   ]
  },
  {
   "cell_type": "code",
   "execution_count": null,
   "id": "86f7a3fa",
   "metadata": {},
   "outputs": [],
   "source": [
    "\n",
    "successes_2022_df = df_new2022.loc[df_new2022['Site Name'] == 'CTC-KC-III']\n",
    "successes_2022_df_values = successes_2022_df.value_counts(['First Site Name'])\n",
    "\n",
    "# Plotting the data to show the values\n",
    "successes_2022_df.value_counts(['First Site Name']).sort_values().plot(kind='barh', title='Amount of servers from a specific center')\n"
   ]
  },
  {
   "cell_type": "code",
   "execution_count": null,
   "id": "bcb800f2",
   "metadata": {},
   "outputs": [],
   "source": [
    "len(df)"
   ]
  },
  {
   "cell_type": "code",
   "execution_count": null,
   "id": "63fb5e9d",
   "metadata": {},
   "outputs": [],
   "source": [
    "df['Solution Name'].unique()"
   ]
  },
  {
   "cell_type": "code",
   "execution_count": null,
   "id": "658b1f6a",
   "metadata": {},
   "outputs": [],
   "source": [
    "df['Compute Config CPU'].unique()"
   ]
  },
  {
   "cell_type": "code",
   "execution_count": null,
   "id": "e107135e",
   "metadata": {},
   "outputs": [],
   "source": [
    "df['Hardware Name'].unique()\n",
    "#unique server names"
   ]
  }
 ],
 "metadata": {
  "kernelspec": {
   "display_name": "Python 3 (ipykernel)",
   "language": "python",
   "name": "python3"
  },
  "language_info": {
   "codemirror_mode": {
    "name": "ipython",
    "version": 3
   },
   "file_extension": ".py",
   "mimetype": "text/x-python",
   "name": "python",
   "nbconvert_exporter": "python",
   "pygments_lexer": "ipython3",
   "version": "3.11.5"
  }
 },
 "nbformat": 4,
 "nbformat_minor": 5
}
