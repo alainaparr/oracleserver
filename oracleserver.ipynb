{
 "cells": [
  {
   "cell_type": "code",
   "execution_count": 2,
   "id": "c46c17ce-3295-4cbe-9b2a-afbea309e1de",
   "metadata": {},
   "outputs": [],
   "source": [
    "import pandas as pd\n",
    "import numpy as np\n",
    "import matplotlib.pyplot as plt"
   ]
  },
  {
   "cell_type": "code",
   "execution_count": 3,
   "id": "0d83e32e",
   "metadata": {},
   "outputs": [],
   "source": [
    "df = pd.read_csv('', low_memory= False, encoding='latin-1')\n"
   ]
  },
  {
   "cell_type": "code",
   "execution_count": null,
   "id": "c8bf4d16",
   "metadata": {},
   "outputs": [],
   "source": [
    "# \"Job ID\",\"Job Status\",\"Job Klass\",\"Job Hardware ID\",\"Job Operation\",\"Job Created\",\"Job Updated\",\n",
    "#\"Job Duration in Seconds\",\"Job Ticket ID\",\"Hardware ID\",\"Hardware Name\",\"Hardware Image ID\",\n",
    "#\"Hardware Solution ID\",\"Hardware Site ID\",\"Image ID\",\"Image Name\",\"Site ID\",\"Site Name\",\"Ticket Site Name\",\n",
    "#\"First Site Name\",\"Solution ID\",\"Solution Name\",\"Ticket ID\",\"Ticket Site\",\"Hardware Compute Config ID\",\n",
    "#\"Compute Config ID\",\"Compute Config Name\",\"Compute Config CPU\",\"Compute Config Memory\",\"Compute Config Disk\",\n",
    "#\"Compute Config SKU\""
   ]
  },
  {
   "cell_type": "code",
   "execution_count": null,
   "id": "a744a087",
   "metadata": {},
   "outputs": [],
   "source": [
    "#ticket site, site name, solution name, hardware name/id, job created (in years/months)\n",
    "#df_year_2021 = df_main.loc[(df_main['Job Created'] <= \"2022-01-01 00:00:00.000000\") & (df_main['Job Created'] >= \"2021-01-01 00:00:00.000000\")]"
   ]
  },
  {
   "cell_type": "code",
   "execution_count": 8,
   "id": "54b4d517",
   "metadata": {},
   "outputs": [],
   "source": [
    "df_new = df[[ 'Job ID','Hardware ID', 'Hardware Name', 'Solution Name', 'Ticket Site','Site Name', 'Job Created']]"
   ]
  },
  {
   "cell_type": "code",
   "execution_count": 9,
   "id": "d426470e",
   "metadata": {},
   "outputs": [],
   "source": [
    "\n",
    "yearly_data = {}\n",
    "\n",
    "start_year = 2018\n",
    "end_year = 2022\n",
    "\n",
    "for year in range(start_year, end_year + 1):\n",
    "    monthly_data = {}\n",
    "    \n",
    "    for month in range(1, 13):\n",
    "        monthstart = f\"{year}-{month:02d}-01\"\n",
    "        monthend = f\"{year}-{month + 1:02d}-01\" if month < 12 else f\"{year + 1}-01-01\"\n",
    "        \n",
    "        filtered_df = df_new.loc[(df_new['Job Created'] >= monthstart) & (df_new['Job Created'] < monthend)]\n",
    "        monthly_data[f'df_new_{year}_{month:02d}'] = filtered_df\n",
    "    \n",
    "    \n",
    "    yearly_data[year] = monthly_data\n",
    "\n",
    "years = [2018, 2019, 2020, 2021, 2022]\n",
    "months = ['01', '02', '03', '04', '05', '06', '07', '08', '09', '10', '11', '12']\n",
    "\n",
    "\n",
    "for year in years:\n",
    "    for month in months:\n",
    "        variable_name = f'df{year}{month}'\n",
    "        length = len(yearly_data[year][f'df_new_{year}_{month}'])\n",
    "        exec(f\"{variable_name} = {length}\")\n",
    "\n",
    "\n"
   ]
  },
  {
   "cell_type": "code",
   "execution_count": null,
   "id": "47a9b98b",
   "metadata": {},
   "outputs": [],
   "source": [
    "\n",
    "numberofjobspermonth2018 = [df2018j, df2018f, df2018m, df2018a, df2018ma, df2018ju, df2018jy, df2018au, df2018s, df2018o, df2018n, df2018d]\n",
    "yearly_index = ['Jan', 'Feb', 'Mar', 'Apr', 'May', 'Jun', 'Jul', 'Aug', 'Sep', 'Oct', 'Nov', 'Dec']\n",
    "\n",
    "yearly_df = pd.DataFrame({'Number of Jobs' : numberofjobspermonth2018}, index=yearly_index)\n",
    "\n",
    "ax = yearly_df.plot.bar(rot=0, title = 'Amount of servers requested per month, 2018')"
   ]
  },
  {
   "cell_type": "code",
   "execution_count": null,
   "id": "ec75be4e",
   "metadata": {},
   "outputs": [],
   "source": [
    "numberofjobspermonth2019 = [df2019j, df2019f, df2019m, df2019a, df2019ma, df2019ju, df2019jy, df2019au, df2019s, df2019o, df2019n, df2019d]\n",
    "yearly_index = ['Jan', 'Feb', 'Mar', 'Apr', 'May', 'Jun', 'Jul', 'Aug', 'Sep', 'Oct', 'Nov', 'Dec']\n",
    "\n",
    "yearly_df = pd.DataFrame({'Number of Jobs' : numberofjobspermonth2019}, index=yearly_index)\n",
    "\n",
    "ax = yearly_df.plot.bar(rot=0, title = 'Amount of servers requested per month, 2019')"
   ]
  },
  {
   "cell_type": "code",
   "execution_count": null,
   "id": "edb9dbc9",
   "metadata": {},
   "outputs": [],
   "source": [
    "numberofjobspermonth2020 = [df2020j, df2020f, df2020m, df2020a, df2020ma, df2020ju, df2020jy, df2020au, df2020s, df2020o, df2020n, df2020d]\n",
    "yearly_index = ['Jan', 'Feb', 'Mar', 'Apr', 'May', 'Jun', 'Jul', 'Aug', 'Sep', 'Oct', 'Nov', 'Dec']\n",
    "\n",
    "yearly_df = pd.DataFrame({'Number of Jobs' : numberofjobspermonth2020}, index=yearly_index)\n",
    "\n",
    "ax = yearly_df.plot.bar(rot=0, title = 'Amount of servers requested per month, 2020')"
   ]
  },
  {
   "cell_type": "code",
   "execution_count": null,
   "id": "2b0c955e",
   "metadata": {},
   "outputs": [],
   "source": [
    "numberofjobspermonth2021 = [df2021j, df2021f, df2021m, df2021a, df2021ma, df2021ju, df2021jy, df2021au, df2021s, df2021o, df2021n, df2021d]\n",
    "yearly_index = ['Jan', 'Feb', 'Mar', 'Apr', 'May', 'Jun', 'Jul', 'Aug', 'Sep', 'Oct', 'Nov', 'Dec']\n",
    "\n",
    "yearly_df = pd.DataFrame({'Number of Jobs' : numberofjobspermonth2021}, index=yearly_index)\n",
    "\n",
    "ax = yearly_df.plot.bar(rot=0, title = 'Amount of servers requested per month, 2021')"
   ]
  },
  {
   "cell_type": "code",
   "execution_count": null,
   "id": "ee6c3400",
   "metadata": {},
   "outputs": [],
   "source": [
    "numberofjobspermonth2022 = [df2022j, df2022f, df2022m, df2022a, df2022ma, df2022ju, df2022jy, df2022au, df2022s, df2022o, df2022n, df2022d]\n",
    "yearly_index = ['Jan', 'Feb', 'Mar', 'Apr', 'May', 'Jun', 'Jul', 'Aug', 'Sep', 'Oct', 'Nov', 'Dec']\n",
    "\n",
    "yearly_df = pd.DataFrame({'Number of Jobs' : numberofjobspermonth2021}, index=yearly_index)\n",
    "\n",
    "ax = yearly_df.plot.bar(rot=0, title = 'Amount of servers requested per month, 2022')"
   ]
  },
  {
   "cell_type": "code",
   "execution_count": 18,
   "id": "e012af57",
   "metadata": {},
   "outputs": [],
   "source": [
    "# df_new = df[[ 'Job ID','Hardware ID', 'Hardware Name', 'Solution Name', 'Ticket Site',' First Site Name', 'Job Created']]\n",
    "# df_new\n",
    "df_new2019 = df_new.loc[(df_new['Job Created'] <= \"2020-01-01 00:00:00.000000\") & (df_new['Job Created'] >= \"2019-01-01 00:00:00.000000\")]"
   ]
  },
  {
   "cell_type": "code",
   "execution_count": 22,
   "id": "68ed895f",
   "metadata": {},
   "outputs": [],
   "source": [
    "df_filtered = df_new2019.dropna(subset=['Job ID', 'Ticket Site','Job Created'])\n",
    "catagorical_cols = ['Job ID', 'Ticket Site', 'Solution Name']"
   ]
  },
  {
   "cell_type": "code",
   "execution_count": 24,
   "id": "bf5a4d57",
   "metadata": {},
   "outputs": [
    {
     "ename": "MemoryError",
     "evalue": "Unable to allocate 8.40 GiB for an array with shape (33518, 33653) and data type float64",
     "output_type": "error",
     "traceback": [
      "\u001b[1;31m---------------------------------------------------------------------------\u001b[0m",
      "\u001b[1;31mMemoryError\u001b[0m                               Traceback (most recent call last)",
      "\u001b[1;32mc:\\Users\\Alaina\\oracleserver\\oracleserver.ipynb Cell 14\u001b[0m line \u001b[0;36m2\n\u001b[0;32m      <a href='vscode-notebook-cell:/c%3A/Users/Alaina/oracleserver/oracleserver.ipynb#X16sZmlsZQ%3D%3D?line=0'>1</a>\u001b[0m \u001b[39mfrom\u001b[39;00m \u001b[39msklearn\u001b[39;00m\u001b[39m.\u001b[39;00m\u001b[39mpreprocessing\u001b[39;00m \u001b[39mimport\u001b[39;00m StandardScaler, OrdinalEncoder, OneHotEncoder\n\u001b[1;32m----> <a href='vscode-notebook-cell:/c%3A/Users/Alaina/oracleserver/oracleserver.ipynb#X16sZmlsZQ%3D%3D?line=1'>2</a>\u001b[0m X_categorical \u001b[39m=\u001b[39m OneHotEncoder()\u001b[39m.\u001b[39;49mfit_transform(df_filtered[catagorical_cols]\u001b[39m.\u001b[39;49mvalues)\u001b[39m.\u001b[39;49mtoarray()\n\u001b[0;32m      <a href='vscode-notebook-cell:/c%3A/Users/Alaina/oracleserver/oracleserver.ipynb#X16sZmlsZQ%3D%3D?line=2'>3</a>\u001b[0m \u001b[39m#make new set in x (issue area/ all inputs) then transform into 2d array\u001b[39;00m\n",
      "File \u001b[1;32mc:\\Users\\Alaina\\AppData\\Local\\Programs\\Python\\Python311\\Lib\\site-packages\\scipy\\sparse\\_compressed.py:1050\u001b[0m, in \u001b[0;36m_cs_matrix.toarray\u001b[1;34m(self, order, out)\u001b[0m\n\u001b[0;32m   1048\u001b[0m \u001b[39mif\u001b[39;00m out \u001b[39mis\u001b[39;00m \u001b[39mNone\u001b[39;00m \u001b[39mand\u001b[39;00m order \u001b[39mis\u001b[39;00m \u001b[39mNone\u001b[39;00m:\n\u001b[0;32m   1049\u001b[0m     order \u001b[39m=\u001b[39m \u001b[39mself\u001b[39m\u001b[39m.\u001b[39m_swap(\u001b[39m'\u001b[39m\u001b[39mcf\u001b[39m\u001b[39m'\u001b[39m)[\u001b[39m0\u001b[39m]\n\u001b[1;32m-> 1050\u001b[0m out \u001b[39m=\u001b[39m \u001b[39mself\u001b[39;49m\u001b[39m.\u001b[39;49m_process_toarray_args(order, out)\n\u001b[0;32m   1051\u001b[0m \u001b[39mif\u001b[39;00m \u001b[39mnot\u001b[39;00m (out\u001b[39m.\u001b[39mflags\u001b[39m.\u001b[39mc_contiguous \u001b[39mor\u001b[39;00m out\u001b[39m.\u001b[39mflags\u001b[39m.\u001b[39mf_contiguous):\n\u001b[0;32m   1052\u001b[0m     \u001b[39mraise\u001b[39;00m \u001b[39mValueError\u001b[39;00m(\u001b[39m'\u001b[39m\u001b[39mOutput array must be C or F contiguous\u001b[39m\u001b[39m'\u001b[39m)\n",
      "File \u001b[1;32mc:\\Users\\Alaina\\AppData\\Local\\Programs\\Python\\Python311\\Lib\\site-packages\\scipy\\sparse\\_base.py:1267\u001b[0m, in \u001b[0;36m_spbase._process_toarray_args\u001b[1;34m(self, order, out)\u001b[0m\n\u001b[0;32m   1265\u001b[0m     \u001b[39mreturn\u001b[39;00m out\n\u001b[0;32m   1266\u001b[0m \u001b[39melse\u001b[39;00m:\n\u001b[1;32m-> 1267\u001b[0m     \u001b[39mreturn\u001b[39;00m np\u001b[39m.\u001b[39mzeros(\u001b[39mself\u001b[39m\u001b[39m.\u001b[39mshape, dtype\u001b[39m=\u001b[39m\u001b[39mself\u001b[39m\u001b[39m.\u001b[39mdtype, order\u001b[39m=\u001b[39morder)\n",
      "\u001b[1;31mMemoryError\u001b[0m: Unable to allocate 8.40 GiB for an array with shape (33518, 33653) and data type float64"
     ]
    }
   ],
   "source": [
    "from sklearn.preprocessing import StandardScaler, OrdinalEncoder, OneHotEncoder\n",
    "X_categorical = OneHotEncoder().fit_transform(df_filtered[catagorical_cols].values).toarray()\n",
    "#make new set in x (issue area/ all inputs) then transform into 2d array"
   ]
  },
  {
   "cell_type": "code",
   "execution_count": 21,
   "id": "7d70e7a4",
   "metadata": {},
   "outputs": [
    {
     "ename": "MemoryError",
     "evalue": "Unable to allocate 2.55 GiB for an array with shape (15425, 22169) and data type float64",
     "output_type": "error",
     "traceback": [
      "\u001b[1;31m---------------------------------------------------------------------------\u001b[0m",
      "\u001b[1;31mMemoryError\u001b[0m                               Traceback (most recent call last)",
      "\u001b[1;32mc:\\Users\\Alaina\\oracleserver\\oracleserver.ipynb Cell 15\u001b[0m line \u001b[0;36m1\n\u001b[0;32m     <a href='vscode-notebook-cell:/c%3A/Users/Alaina/oracleserver/oracleserver.ipynb#X20sZmlsZQ%3D%3D?line=9'>10</a>\u001b[0m y \u001b[39m=\u001b[39m df_filtered[\u001b[39m'\u001b[39m\u001b[39mJob Created\u001b[39m\u001b[39m'\u001b[39m]\n\u001b[0;32m     <a href='vscode-notebook-cell:/c%3A/Users/Alaina/oracleserver/oracleserver.ipynb#X20sZmlsZQ%3D%3D?line=10'>11</a>\u001b[0m \u001b[39m#defines output\u001b[39;00m\n\u001b[1;32m---> <a href='vscode-notebook-cell:/c%3A/Users/Alaina/oracleserver/oracleserver.ipynb#X20sZmlsZQ%3D%3D?line=12'>13</a>\u001b[0m X_train, X_test, y_train, y_test \u001b[39m=\u001b[39m train_test_split(X_categorical, y, test_size\u001b[39m=\u001b[39;49m\u001b[39m0.3\u001b[39;49m, random_state\u001b[39m=\u001b[39;49m\u001b[39m42\u001b[39;49m)\n\u001b[0;32m     <a href='vscode-notebook-cell:/c%3A/Users/Alaina/oracleserver/oracleserver.ipynb#X20sZmlsZQ%3D%3D?line=13'>14</a>\u001b[0m \u001b[39m# splits input and output variables into 2 sets each, testing set is 30% of the total data, random state ensures reproductibility\u001b[39;00m\n\u001b[0;32m     <a href='vscode-notebook-cell:/c%3A/Users/Alaina/oracleserver/oracleserver.ipynb#X20sZmlsZQ%3D%3D?line=14'>15</a>\u001b[0m \u001b[39m#train is part of the data added that is used to compare to the test\u001b[39;00m\n\u001b[0;32m     <a href='vscode-notebook-cell:/c%3A/Users/Alaina/oracleserver/oracleserver.ipynb#X20sZmlsZQ%3D%3D?line=15'>16</a>\u001b[0m \u001b[39m#hasnt see part of the data so it isn't 100% correct (data is split off only for training)\u001b[39;00m\n\u001b[0;32m     <a href='vscode-notebook-cell:/c%3A/Users/Alaina/oracleserver/oracleserver.ipynb#X20sZmlsZQ%3D%3D?line=17'>18</a>\u001b[0m mlp \u001b[39m=\u001b[39m MLPClassifier(random_state\u001b[39m=\u001b[39m\u001b[39m42\u001b[39m)\n",
      "File \u001b[1;32mc:\\Users\\Alaina\\AppData\\Local\\Programs\\Python\\Python311\\Lib\\site-packages\\sklearn\\utils\\_param_validation.py:211\u001b[0m, in \u001b[0;36mvalidate_params.<locals>.decorator.<locals>.wrapper\u001b[1;34m(*args, **kwargs)\u001b[0m\n\u001b[0;32m    205\u001b[0m \u001b[39mtry\u001b[39;00m:\n\u001b[0;32m    206\u001b[0m     \u001b[39mwith\u001b[39;00m config_context(\n\u001b[0;32m    207\u001b[0m         skip_parameter_validation\u001b[39m=\u001b[39m(\n\u001b[0;32m    208\u001b[0m             prefer_skip_nested_validation \u001b[39mor\u001b[39;00m global_skip_validation\n\u001b[0;32m    209\u001b[0m         )\n\u001b[0;32m    210\u001b[0m     ):\n\u001b[1;32m--> 211\u001b[0m         \u001b[39mreturn\u001b[39;00m func(\u001b[39m*\u001b[39;49margs, \u001b[39m*\u001b[39;49m\u001b[39m*\u001b[39;49mkwargs)\n\u001b[0;32m    212\u001b[0m \u001b[39mexcept\u001b[39;00m InvalidParameterError \u001b[39mas\u001b[39;00m e:\n\u001b[0;32m    213\u001b[0m     \u001b[39m# When the function is just a wrapper around an estimator, we allow\u001b[39;00m\n\u001b[0;32m    214\u001b[0m     \u001b[39m# the function to delegate validation to the estimator, but we replace\u001b[39;00m\n\u001b[0;32m    215\u001b[0m     \u001b[39m# the name of the estimator by the name of the function in the error\u001b[39;00m\n\u001b[0;32m    216\u001b[0m     \u001b[39m# message to avoid confusion.\u001b[39;00m\n\u001b[0;32m    217\u001b[0m     msg \u001b[39m=\u001b[39m re\u001b[39m.\u001b[39msub(\n\u001b[0;32m    218\u001b[0m         \u001b[39mr\u001b[39m\u001b[39m\"\u001b[39m\u001b[39mparameter of \u001b[39m\u001b[39m\\\u001b[39m\u001b[39mw+ must be\u001b[39m\u001b[39m\"\u001b[39m,\n\u001b[0;32m    219\u001b[0m         \u001b[39mf\u001b[39m\u001b[39m\"\u001b[39m\u001b[39mparameter of \u001b[39m\u001b[39m{\u001b[39;00mfunc\u001b[39m.\u001b[39m\u001b[39m__qualname__\u001b[39m\u001b[39m}\u001b[39;00m\u001b[39m must be\u001b[39m\u001b[39m\"\u001b[39m,\n\u001b[0;32m    220\u001b[0m         \u001b[39mstr\u001b[39m(e),\n\u001b[0;32m    221\u001b[0m     )\n",
      "File \u001b[1;32mc:\\Users\\Alaina\\AppData\\Local\\Programs\\Python\\Python311\\Lib\\site-packages\\sklearn\\model_selection\\_split.py:2672\u001b[0m, in \u001b[0;36mtrain_test_split\u001b[1;34m(test_size, train_size, random_state, shuffle, stratify, *arrays)\u001b[0m\n\u001b[0;32m   2668\u001b[0m     cv \u001b[39m=\u001b[39m CVClass(test_size\u001b[39m=\u001b[39mn_test, train_size\u001b[39m=\u001b[39mn_train, random_state\u001b[39m=\u001b[39mrandom_state)\n\u001b[0;32m   2670\u001b[0m     train, test \u001b[39m=\u001b[39m \u001b[39mnext\u001b[39m(cv\u001b[39m.\u001b[39msplit(X\u001b[39m=\u001b[39marrays[\u001b[39m0\u001b[39m], y\u001b[39m=\u001b[39mstratify))\n\u001b[1;32m-> 2672\u001b[0m \u001b[39mreturn\u001b[39;00m \u001b[39mlist\u001b[39;49m(\n\u001b[0;32m   2673\u001b[0m     chain\u001b[39m.\u001b[39;49mfrom_iterable(\n\u001b[0;32m   2674\u001b[0m         (_safe_indexing(a, train), _safe_indexing(a, test)) \u001b[39mfor\u001b[39;49;00m a \u001b[39min\u001b[39;49;00m arrays\n\u001b[0;32m   2675\u001b[0m     )\n\u001b[0;32m   2676\u001b[0m )\n",
      "File \u001b[1;32mc:\\Users\\Alaina\\AppData\\Local\\Programs\\Python\\Python311\\Lib\\site-packages\\sklearn\\model_selection\\_split.py:2674\u001b[0m, in \u001b[0;36m<genexpr>\u001b[1;34m(.0)\u001b[0m\n\u001b[0;32m   2668\u001b[0m     cv \u001b[39m=\u001b[39m CVClass(test_size\u001b[39m=\u001b[39mn_test, train_size\u001b[39m=\u001b[39mn_train, random_state\u001b[39m=\u001b[39mrandom_state)\n\u001b[0;32m   2670\u001b[0m     train, test \u001b[39m=\u001b[39m \u001b[39mnext\u001b[39m(cv\u001b[39m.\u001b[39msplit(X\u001b[39m=\u001b[39marrays[\u001b[39m0\u001b[39m], y\u001b[39m=\u001b[39mstratify))\n\u001b[0;32m   2672\u001b[0m \u001b[39mreturn\u001b[39;00m \u001b[39mlist\u001b[39m(\n\u001b[0;32m   2673\u001b[0m     chain\u001b[39m.\u001b[39mfrom_iterable(\n\u001b[1;32m-> 2674\u001b[0m         (_safe_indexing(a, train), _safe_indexing(a, test)) \u001b[39mfor\u001b[39;00m a \u001b[39min\u001b[39;00m arrays\n\u001b[0;32m   2675\u001b[0m     )\n\u001b[0;32m   2676\u001b[0m )\n",
      "File \u001b[1;32mc:\\Users\\Alaina\\AppData\\Local\\Programs\\Python\\Python311\\Lib\\site-packages\\sklearn\\utils\\__init__.py:355\u001b[0m, in \u001b[0;36m_safe_indexing\u001b[1;34m(X, indices, axis)\u001b[0m\n\u001b[0;32m    353\u001b[0m     \u001b[39mreturn\u001b[39;00m _pandas_indexing(X, indices, indices_dtype, axis\u001b[39m=\u001b[39maxis)\n\u001b[0;32m    354\u001b[0m \u001b[39melif\u001b[39;00m \u001b[39mhasattr\u001b[39m(X, \u001b[39m\"\u001b[39m\u001b[39mshape\u001b[39m\u001b[39m\"\u001b[39m):\n\u001b[1;32m--> 355\u001b[0m     \u001b[39mreturn\u001b[39;00m _array_indexing(X, indices, indices_dtype, axis\u001b[39m=\u001b[39;49maxis)\n\u001b[0;32m    356\u001b[0m \u001b[39melse\u001b[39;00m:\n\u001b[0;32m    357\u001b[0m     \u001b[39mreturn\u001b[39;00m _list_indexing(X, indices, indices_dtype)\n",
      "File \u001b[1;32mc:\\Users\\Alaina\\AppData\\Local\\Programs\\Python\\Python311\\Lib\\site-packages\\sklearn\\utils\\__init__.py:184\u001b[0m, in \u001b[0;36m_array_indexing\u001b[1;34m(array, key, key_dtype, axis)\u001b[0m\n\u001b[0;32m    182\u001b[0m \u001b[39mif\u001b[39;00m \u001b[39misinstance\u001b[39m(key, \u001b[39mtuple\u001b[39m):\n\u001b[0;32m    183\u001b[0m     key \u001b[39m=\u001b[39m \u001b[39mlist\u001b[39m(key)\n\u001b[1;32m--> 184\u001b[0m \u001b[39mreturn\u001b[39;00m array[key] \u001b[39mif\u001b[39;00m axis \u001b[39m==\u001b[39m \u001b[39m0\u001b[39m \u001b[39melse\u001b[39;00m array[:, key]\n",
      "\u001b[1;31mMemoryError\u001b[0m: Unable to allocate 2.55 GiB for an array with shape (15425, 22169) and data type float64"
     ]
    }
   ],
   "source": [
    "from sklearn.model_selection import train_test_split\n",
    "from sklearn.neural_network import MLPClassifier\n",
    "from sklearn.metrics import confusion_matrix, accuracy_score\n",
    "\n",
    "df_filtered = df_new2019.dropna(subset=['Job ID', 'Ticket Site','Job Created'])\n",
    "#create new dataframe the removes rows with missing values for issuearea and direction\n",
    "\n",
    "X = df_filtered[['Job ID','Ticket Site']].values\n",
    "#defines input and reshaped into array with one column and as many rows as there are data points\n",
    "y = df_filtered['Job Created']\n",
    "#defines output\n",
    "\n",
    "X_train, X_test, y_train, y_test = train_test_split(X_categorical, y, test_size=0.3, random_state=42)\n",
    "# splits input and output variables into 2 sets each, testing set is 30% of the total data, random state ensures reproductibility\n",
    "#train is part of the data added that is used to compare to the test\n",
    "#hasnt see part of the data so it isn't 100% correct (data is split off only for training)\n",
    "\n",
    "mlp = MLPClassifier(random_state=42)\n",
    "# Create an MLPClassifier\n",
    "\n",
    "mlp.fit(X_train, y_train)\n",
    "# Train the classifier on the input and output variables of the training set\n",
    "\n",
    "y_pred = mlp.predict(X_test)\n",
    "# Get predictions on the output variable using the trained classifier and the input variable\n",
    "\n",
    "cm = confusion_matrix(y_test, y_pred)\n",
    "accuracy = accuracy_score(y_test, y_pred)\n",
    "# Compute the confusion matrix and accuracy of the predictions compared to true values of output variable.\n",
    "#confusion matrix gives the number of true positive, true negative, falso pos and flase negative\n",
    "#accuracy is the proportion of correct predictions out of all predictions\n",
    "\n",
    "# Print the confusion matrix and accuracy, diagonal should be bigger than top right and bottom left\n",
    "print(cm)\n",
    "print(accuracy)\n"
   ]
  },
  {
   "cell_type": "code",
   "execution_count": 25,
   "id": "0fb9e2ec",
   "metadata": {},
   "outputs": [],
   "source": [
    "jobs2018= df_new2018['Job ID'].unique()\n",
    "jobsper2018 = len(jobs2018)"
   ]
  },
  {
   "cell_type": "code",
   "execution_count": 26,
   "id": "a51f43b2",
   "metadata": {},
   "outputs": [],
   "source": [
    "jobs2019= df_new2019['Job ID'].unique()\n",
    "jobsper2019 = len(jobs2019)"
   ]
  },
  {
   "cell_type": "code",
   "execution_count": 27,
   "id": "25d0230c",
   "metadata": {},
   "outputs": [],
   "source": [
    "jobs2020= df_new2020['Job ID'].unique()\n",
    "jobsper2020 = len(jobs2020)"
   ]
  },
  {
   "cell_type": "code",
   "execution_count": 32,
   "id": "0cf07e3e",
   "metadata": {},
   "outputs": [],
   "source": [
    "jobs2021= df_new2021['Job ID'].unique()\n",
    "jobsper2021 = len(jobs2021)"
   ]
  },
  {
   "cell_type": "code",
   "execution_count": 33,
   "id": "171905db",
   "metadata": {},
   "outputs": [],
   "source": [
    "jobs2022= df_new2022['Job ID'].unique()\n",
    "jobsper2022 = len(jobs2022)"
   ]
  },
  {
   "cell_type": "code",
   "execution_count": null,
   "id": "af8e41f8",
   "metadata": {},
   "outputs": [],
   "source": [
    "numberofjobsperyear = [jobsper2018, jobsper2019, jobsper2020, jobsper2021, jobsper2022]\n",
    "yearly_index = ['2018', '2019', '2020', '2021', '2022']\n",
    "\n",
    "yearly_df = pd.DataFrame({'Number of Jobs' : numberofjobsperyear}, index=yearly_index)\n",
    "\n",
    "ax = yearly_df.plot.bar(rot=0, title = 'Amount of servers requested per year')"
   ]
  },
  {
   "cell_type": "code",
   "execution_count": 38,
   "id": "ff5c8ab4",
   "metadata": {},
   "outputs": [
    {
     "data": {
      "text/plain": [
       "array(['CTC-KC-III', 'STCK-25-DC01', 'CTC-LS-IV', 'CTC-KC-I', 'CTC-LS-VI',\n",
       "       'SLOUGHEQUINIXLD5-DC1', 'CTC-LS-III', 'CTC-KC-II', 'CTC-KC-VIII',\n",
       "       'MARK-371-FL01', 'CTC-LS-V', 'CTC-KC-VII', nan, 'WGC-20-FL01',\n",
       "       'CTC-LS-II', 'CTC-KCBUILD1', 'BRISISEEKEAGLE-DC1', 'CLIENT-SITE',\n",
       "       'UPPLANDS-DS1-DC02', 'BRMP-30-FL01', 'Unanderra-IT3',\n",
       "       'PAN-110-DC01', 'CTC-LS-IV ', 'CTC-LS-I', 'KALR-39-FL04',\n",
       "       'MLVN-35-DC01', 'BRISISEEKWLNGABA-DC1', 'BRLN-50-DC01'],\n",
       "      dtype=object)"
      ]
     },
     "execution_count": 38,
     "metadata": {},
     "output_type": "execute_result"
    }
   ],
   "source": [
    "df3 = df['Ticket Site Name'].unique()\n",
    "df3"
   ]
  },
  {
   "cell_type": "code",
   "execution_count": 41,
   "id": "006c4d6d",
   "metadata": {},
   "outputs": [],
   "source": [
    "df_ticketsite1 = df[(df['Ticket Site Name']=='CTC-KC-III')]\n",
    "df_ticketsite2 = df[(df['Ticket Site Name']=='STCK-25-DC01')]\n",
    "df_ticketsite3 = df[(df['Ticket Site Name']=='CTC-LS-IV')]\n",
    "df_ticketsite4 = df[(df['Ticket Site Name']=='CTC-KC-I')]\n",
    "df_ticketsite5 = df[(df['Ticket Site Name']=='CTC-LS-VI')]\n",
    "df_ticketsite6 = df[(df['Ticket Site Name']=='SLOUGHEQUINIXLD5-DC1')]\n",
    "df_ticketsite7 = df[(df['Ticket Site Name']=='CTC-LS-III')]\n",
    "df_ticketsite8 = df[(df['Ticket Site Name']=='CTC-KC-II')]\n",
    "df_ticketsite9 = df[(df['Ticket Site Name']=='CTC-KC-VIII')]\n",
    "df_ticketsite10 = df[(df['Ticket Site Name']=='MARK-371-FL01')]\n",
    "ts1 = len(df_ticketsite1)\n",
    "ts2 = len(df_ticketsite2)\n",
    "ts3 = len(df_ticketsite3)\n",
    "ts4 = len(df_ticketsite4)\n",
    "ts5 = len(df_ticketsite5)\n",
    "ts6 = len(df_ticketsite6)\n",
    "ts7 = len(df_ticketsite7)\n",
    "ts8 = len(df_ticketsite8)\n",
    "ts9 = len(df_ticketsite9)\n",
    "ts10 = len(df_ticketsite10)\n"
   ]
  },
  {
   "cell_type": "code",
   "execution_count": null,
   "id": "1aa159cb",
   "metadata": {},
   "outputs": [],
   "source": [
    "numberofjobsatgivendcen = [ts1, ts2, ts3, ts4, ts5, ts6, ts7, ts8, ts9, ts10]\n",
    "yearly_index = ['CTC-KC-III', 'STCK-25-DC01', 'CTC-LS-IV', 'CTC-KC-I', 'CTC-LS-VI',\n",
    "       'SLOUGHEQUINIXLD5-DC1', 'CTC-LS-III', 'CTC-KC-II', 'CTC-KC-VIII',\n",
    "       'MARK-371-FL01']\n",
    "\n",
    "yearly_df = pd.DataFrame({'Number requested' : numberofjobsatgivendcen}, index = yearly_index)\n",
    "\n",
    "ax = yearly_df.plot.bar(rot=0, title = 'Amount of servers requested per center total')"
   ]
  },
  {
   "cell_type": "code",
   "execution_count": null,
   "id": "86f7a3fa",
   "metadata": {},
   "outputs": [],
   "source": [
    "\n",
    "successes_2022_df = df_new2022.loc[df_new2022['Site Name'] == 'CTC-KC-III']\n",
    "successes_2022_df_values = successes_2022_df.value_counts(['First Site Name'])\n",
    "\n",
    "# Plotting the data to show the values\n",
    "successes_2022_df.value_counts(['First Site Name']).sort_values().plot(kind='barh', title='Amount of servers from a specific center')\n"
   ]
  },
  {
   "cell_type": "code",
   "execution_count": null,
   "id": "bcb800f2",
   "metadata": {},
   "outputs": [],
   "source": [
    "len(df)"
   ]
  },
  {
   "cell_type": "code",
   "execution_count": 264,
   "id": "63fb5e9d",
   "metadata": {},
   "outputs": [
    {
     "data": {
      "text/plain": [
       "array(['Other - VM | Other - VM', 'AX License Server | AXLIC - VM',\n",
       "       'AX Web Server | AXWS - VM', 'PVS Citrix | PVS Citrix - VM',\n",
       "       'PVS MGMT | PVS MGMT - VM', 'PVS Master | PVS Master - VM',\n",
       "       'Citrix Delivery Controller | XDC - VM',\n",
       "       'Citrix Session Recording | CSR - VM',\n",
       "       'PVS Gold Master CTX | PVS GM - VM',\n",
       "       'Olympus Guardian | OLYGD - VM',\n",
       "       'Domain Controller | Client DC - VM',\n",
       "       'Cerner Retail Pharmacy | CRPINT - VM', 'Kofax PDF | KFXPDF - VM',\n",
       "       'Citrix Storefront - External | SF (DMZ) - VM',\n",
       "       'Citrix Storefront - Internal | SF - VM', 'CSM APP > Non-Prod >VM',\n",
       "       'Resonance | Resonance', 'Domain Controller | Child DC - VM', nan,\n",
       "       'Websphere 8.5 LINUX - EAODR | EAODR - VM',\n",
       "       'Websphere 8.5 LINUX - EAWAS | EAWAS - VM',\n",
       "       'BE DB Tier->NonProd->DB Tier->Small - VM',\n",
       "       'PowerInsight Business Object | BO - VM',\n",
       "       'CareAware iBus | iBus - VM',\n",
       "       'CareAware Multi Media 7 | DICOM - Cerner DC - VM',\n",
       "       'Interqual | Interqual - VM',\n",
       "       'BE Application Tier | BE App Tier - VM', 'Gluster | Gluster - VM',\n",
       "       'OpenLink', 'Federal Content Catalog Web', 'Vitalslink | VL - VM',\n",
       "       'SQL - Always On | SQL - VM', 'ERMX | ERMX - VM',\n",
       "       'Federal Content Catalog Utility',\n",
       "       'Federal Content Catalog Database',\n",
       "       'Document Imaging Batch | BATCH-VM', '3M 360 Web | 3MEWEB - VM',\n",
       "       'OpenNMS | InfraOSS VM', 'Clairvia | CVWEB - VM',\n",
       "       'Clairvia | CVAPP - Configuration D - VM', 'Medanets DB',\n",
       "       'Clairvia | CVMID - VM', 'Clairvia | CVSQL - Configuration A - VM',\n",
       "       'Bridge Medical - SQL | BMSQL - VM',\n",
       "       'Clairvia | CVAPP - Configuration A - VM',\n",
       "       'Clairvia | CVMWEB - VM', 'Bridge Medical - WEB | BMWEB - VM',\n",
       "       'Bridge Medical - INT | BMINT - VM',\n",
       "       'Cerner Waveform Management | VM',\n",
       "       'Clairvia | CVINT - Configuration A - VM',\n",
       "       'Endoscopy Imaging | ENDO - VM', '3M Medicode', 'CERN_CCBH - VM',\n",
       "       'FetalLink | FetalLink Archive Server - VM',\n",
       "       'PVS Master MT | PVS Master MT - VM', 'OpenLink | OPNDB - VM',\n",
       "       'Millennium Crawler | Crawler - VM', 'SQL Server - VM |  SQL - VM',\n",
       "       'SFTP | SFTP - VM', 'Apache Outcome | Web/BO - VM',\n",
       "       'ACIS | ACIS - VM', 'RRD | RRD - VM',\n",
       "       'Citrix NON-PVS | Citrix Large - VM',\n",
       "       'Experian OPS | Experian OPS - VM',\n",
       "       'CareAware Multi Media 6 | CAMM VM - Cerner DC',\n",
       "       'HIE App | HIE App - VM', 'Clairvia | CVCTX - VM',\n",
       "       'Document Imaging | CPDI DX - VM',\n",
       "       'Clairvia | CVAPP - NP - Configuration AB - VM',\n",
       "       '3M CRS | 3M CRS 4CPU/12GB - VM',\n",
       "       'Citrix Gold Master | CSM - VM - Virtual',\n",
       "       'Citrix NON-PVS | Citrix Small - VM',\n",
       "       'CareTracker -> Prod/NonProd -> WEB | VM',\n",
       "       'CareTracker -> Prod/NonProd -> SVC | VM',\n",
       "       'CareTracker -> Prod/NonProd -> PUB | VM',\n",
       "       'Clairvia | CVINT - Configuration C - VM', 'Powerchart ECG | Virt',\n",
       "       '3M 360 Database | 3MEDB - VM', 'NFS | NFS - VM',\n",
       "       'P2Sentinel | P2S Single Node - VM', 'Medanets Web',\n",
       "       'UK Spine Websphere 8.5 EAWAS | VM',\n",
       "       'UK Spine Websphere 8.5 EAODR | VM',\n",
       "       'Document Imaging | ImageImport IMGIMP - VM',\n",
       "       'Charon | Charon - VM', 'OptumInsight (Ingenix) | OI - VM',\n",
       "       'P2Sentinel | P2S Analyzer/Collector - VM',\n",
       "       'P2Sentinel | P2S SLS - VM', 'P2Sentinel | P2S NonProd - VM',\n",
       "       '3M 360 Application | 3MEAPP - VM',\n",
       "       '3M CRS | 3M CRS 6CPU/24GB - VM',\n",
       "       'CERN_ERX - ePrescribing Services | VM',\n",
       "       '3M 360 Report | 3MERPT - VM', '3M 360 Interface | 3MEINT - VM',\n",
       "       'Ipswitch Progress SFTP SQL Server | CSM - VM - Virtual',\n",
       "       'Skybox Mobility', 'Infusion Mgmt | Infusion Mgmt SOAD - VM',\n",
       "       'CareAware Container Agent | VM',\n",
       "       'Cerner Retail Pharmacy | CRPCTX - VM', 'csm infra',\n",
       "       'OTTR - SQL | OTTRSQL - VM', 'OTTR - INT | OTTRINT - VM',\n",
       "       'Clairvia | CVINT - Configuration B - VM',\n",
       "       'Zabbix Proxy | ZBXP - VM', 'Dentrix | DTXINT - VM',\n",
       "       'Zabbix Server | ZBX', 'Advanced Capture Millennium',\n",
       "       'IDM SSPR | NetIQ SSPR - VM - Virtual',\n",
       "       'Clairvia->Nonprod->CVSQL - Configuration A',\n",
       "       'Citrix Store Front | CSM - VM - Virtual',\n",
       "       'Care Management - SQL | CMSQL - VM',\n",
       "       'Oracle Database Server | CSM - VM - Virtual',\n",
       "       'Cerner Retail Pharmacy | CRPSQL - VM',\n",
       "       'PowerChart ECG | EMG - VM',\n",
       "       'Clairvia | CVINT - Configuration D - VM',\n",
       "       'Clairvia | CVAPP - Configuration B - VM',\n",
       "       'PowerChart ECG | ECG - VM',\n",
       "       'Contract Management | Contract Management - VM', 'Webserver | VM',\n",
       "       'Document Management (DM)', 'Citrix PVS | CSM - VM - Virtual',\n",
       "       'Content 360 SQL | SQL - VM', 'OTTR - WEB | OTTRWEB - VM',\n",
       "       'Millennium+ Write Back Service | Millennium+ Write Back - VM',\n",
       "       'Citrix FAS', 'mTuitive Synoptic SQL | APSRSQL - VM',\n",
       "       'Millennium Mobile - ODR | MMODR - VM',\n",
       "       'Millennium Mobile - WAS | MMWAS - VM',\n",
       "       'Clairvia | CVAPP - Configuration C - VM',\n",
       "       'Cerner Retail Pharmacy Prod | Retail Pharmacy',\n",
       "       'Apache Outcome | CTP - VM', 'Federal Management Server | VM',\n",
       "       'RSA SecureID Authentication Manager->NONPROD->VM (for DARS)',\n",
       "       'Citrix Application Server | CSM - VM - Virtual',\n",
       "       'Citrix Delivery Controller | CSM - VM - Virtual',\n",
       "       'IDM eDirectory | IDM eDirectory - VM',\n",
       "       'Infoblox DNS Zone Forwarder',\n",
       "       'Django Patient Portal - Application | Django Patient Portal - VM',\n",
       "       '3M CRS | 3M CRS 2CPU/4GB - VM', 'Support Smart App',\n",
       "       'CloudSpaces - CERN_CLDSP', 'Beyond Now Citrix | BNTCTX - VM',\n",
       "       'CERN_C_SEC Tanium SQL Server | CSM - VM - Virtual',\n",
       "       'Citrix Database Server | CSM - VM - Virtual',\n",
       "       'IDM Management | NetIQ Mgmt - VM - Virtual',\n",
       "       'IDM RemoteLoader | IDM Remote Loader -VM -Virtual',\n",
       "       'Citrix DHCP | CSM - VM - Virtual',\n",
       "       'Remedy Corp Internal | Remedy Corp Internal - VM',\n",
       "       'SQL Server - VM | SQL - VM', 'Gajema | GAJ - VM',\n",
       "       'Millennium Search - Crawler | CRWL - VM',\n",
       "       'Remedy Corp External | Remedy Corp External - VM',\n",
       "       'Lighthouse - Business Objects | BO - VM',\n",
       "       'CERN_C_SEC | SEC - VM - Virtual',\n",
       "       'BE Database Tier | BE DB Tier - VM (deprecated)',\n",
       "       'Citrix Smart Auditor | CSA - VM',\n",
       "       'Websphere 8 - EAODR | EAODR - VM',\n",
       "       'Websphere 8 - EAWAS | EAWAS - VM',\n",
       "       'PVS Gold Master CTX - Temp | PVS GMT - VM',\n",
       "       'SAP-HANA | HANA - DC Berlin', 'API | AP Imaging - VM',\n",
       "       'ePrescribe Organization Directory | ePrescribe Organization Directory',\n",
       "       'Beyond Now Digital Media Archive | BNTDMA', 'Chart | CHRT - VM',\n",
       "       'Beyond Now HL7 | BNTHL7',\n",
       "       'Beyond Now Digital Media Archive | BNTDMA - VM',\n",
       "       'Beyond Now HL7 | BNTHL7 - VM', 'Beyond Now Citrix | BNTCTX',\n",
       "       '3M CRS | 3M CRS 6CPU/16GB - VM', 'Websphere | WAS - VM',\n",
       "       'Sybase | Sybase - VM', 'Web Interface | WI - VM',\n",
       "       'BE Database Tier->Non Prod->BE DB Tier',\n",
       "       'Beyond Now Automated Distribution | BNTAD - VM (good)',\n",
       "       'Beyond Now Automated Distribution | BNTAD - VM',\n",
       "       'Citrix Data Collector | Data Collector - VM',\n",
       "       'Peoplesoft - Application | PSFTAPP - VM',\n",
       "       'CareAware Connect SOAD | SOAD Texting - VM'], dtype=object)"
      ]
     },
     "execution_count": 264,
     "metadata": {},
     "output_type": "execute_result"
    }
   ],
   "source": [
    "df['Solution Name'].unique()"
   ]
  },
  {
   "cell_type": "code",
   "execution_count": null,
   "id": "658b1f6a",
   "metadata": {},
   "outputs": [],
   "source": [
    "df['Compute Config CPU'].unique()"
   ]
  },
  {
   "cell_type": "code",
   "execution_count": null,
   "id": "e107135e",
   "metadata": {},
   "outputs": [],
   "source": [
    "df['Hardware Name'].unique()\n",
    "#unique server names"
   ]
  }
 ],
 "metadata": {
  "kernelspec": {
   "display_name": "Python 3 (ipykernel)",
   "language": "python",
   "name": "python3"
  },
  "language_info": {
   "codemirror_mode": {
    "name": "ipython",
    "version": 3
   },
   "file_extension": ".py",
   "mimetype": "text/x-python",
   "name": "python",
   "nbconvert_exporter": "python",
   "pygments_lexer": "ipython3",
   "version": "3.11.5"
  }
 },
 "nbformat": 4,
 "nbformat_minor": 5
}
