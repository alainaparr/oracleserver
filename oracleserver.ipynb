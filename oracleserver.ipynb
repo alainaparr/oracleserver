{
 "cells": [
  {
   "cell_type": "code",
   "execution_count": 30,
   "id": "c46c17ce-3295-4cbe-9b2a-afbea309e1de",
   "metadata": {},
   "outputs": [],
   "source": [
    "import pandas as pd\n",
    "import numpy as np\n",
    "import matplotlib.pyplot as plt"
   ]
  },
  {
   "cell_type": "code",
   "execution_count": 2,
   "id": "0d83e32e",
   "metadata": {},
   "outputs": [],
   "source": [
    "df = pd.read_csv('', low_memory= False, encoding='latin-1')"
   ]
  },
  {
   "cell_type": "code",
   "execution_count": null,
   "id": "92348173",
   "metadata": {},
   "outputs": [],
   "source": [
    "df"
   ]
  },
  {
   "cell_type": "code",
   "execution_count": null,
   "id": "c8bf4d16",
   "metadata": {},
   "outputs": [],
   "source": [
    "# \"Job ID\",\"Job Status\",\"Job Klass\",\"Job Hardware ID\",\"Job Operation\",\"Job Created\",\"Job Updated\",\n",
    "#\"Job Duration in Seconds\",\"Job Ticket ID\",\"Hardware ID\",\"Hardware Name\",\"Hardware Image ID\",\n",
    "#\"Hardware Solution ID\",\"Hardware Site ID\",\"Image ID\",\"Image Name\",\"Site ID\",\"Site Name\",\"Ticket Site Name\",\n",
    "#\"First Site Name\",\"Solution ID\",\"Solution Name\",\"Ticket ID\",\"Ticket Site\",\"Hardware Compute Config ID\",\n",
    "#\"Compute Config ID\",\"Compute Config Name\",\"Compute Config CPU\",\"Compute Config Memory\",\"Compute Config Disk\",\n",
    "#\"Compute Config SKU\""
   ]
  },
  {
   "cell_type": "code",
   "execution_count": null,
   "id": "a744a087",
   "metadata": {},
   "outputs": [],
   "source": [
    "#ticket site, site name, solution name, hardware name/id, job created (in years/months)\n",
    "#df_year_2021 = df_main.loc[(df_main['Job Created'] <= \"2022-01-01 00:00:00.000000\") & (df_main['Job Created'] >= \"2021-01-01 00:00:00.000000\")]"
   ]
  },
  {
   "cell_type": "code",
   "execution_count": null,
   "id": "54b4d517",
   "metadata": {},
   "outputs": [],
   "source": [
    "df_new = df[[ 'Job ID','Hardware ID', 'Hardware Name', 'Solution Name', 'Ticket Site','Site Name', 'Job Created']]\n",
    "df_new"
   ]
  },
  {
   "cell_type": "code",
   "execution_count": null,
   "id": "30ab50e2",
   "metadata": {},
   "outputs": [],
   "source": [
    "df_new2018 = df_new.loc[(df_new['Job Created'] <= \"2019-01-01 00:00:00.000000\") & (df_new['Job Created'] >= \"2018-01-01 00:00:00.000000\")]\n",
    "df_new2018"
   ]
  },
  {
   "cell_type": "code",
   "execution_count": null,
   "id": "d7d3bad0",
   "metadata": {},
   "outputs": [],
   "source": [
    "df_new2019 = df_new.loc[(df_new['Job Created'] <= \"2020-01-01 00:00:00.000000\") & (df_new['Job Created'] >= \"2019-01-01 00:00:00.000000\")]\n",
    "df_new2019"
   ]
  },
  {
   "cell_type": "code",
   "execution_count": null,
   "id": "fdcf8944",
   "metadata": {},
   "outputs": [],
   "source": [
    "df_new2020 = df_new.loc[(df_new['Job Created'] <= \"2021-01-01 00:00:00.000000\") & (df_new['Job Created'] >= \"2020-01-01 00:00:00.000000\")]\n",
    "df_new2020"
   ]
  },
  {
   "cell_type": "code",
   "execution_count": null,
   "id": "b3571da1",
   "metadata": {},
   "outputs": [],
   "source": [
    "df_new2021 = df_new.loc[(df_new['Job Created'] <= \"2022-01-01 00:00:00.000000\") & (df_new['Job Created'] >= \"2021-01-01 00:00:00.000000\")]\n",
    "df_new2021"
   ]
  },
  {
   "cell_type": "code",
   "execution_count": null,
   "id": "b9315ca3",
   "metadata": {},
   "outputs": [],
   "source": [
    "df_new2022 = df_new.loc[(df_new['Job Created'] <= \"2023-01-01 00:00:00.000000\") & (df_new['Job Created'] >= \"2022-01-01 00:00:00.000000\")]\n",
    "df_new2022"
   ]
  },
  {
   "cell_type": "code",
   "execution_count": 25,
   "id": "0fb9e2ec",
   "metadata": {},
   "outputs": [],
   "source": [
    "jobs2018= df_new2018['Job ID'].unique()\n",
    "jobsper2018 = len(jobs2018)"
   ]
  },
  {
   "cell_type": "code",
   "execution_count": 26,
   "id": "a51f43b2",
   "metadata": {},
   "outputs": [],
   "source": [
    "jobs2019= df_new2019['Job ID'].unique()\n",
    "jobsper2019 = len(jobs2019)"
   ]
  },
  {
   "cell_type": "code",
   "execution_count": 27,
   "id": "25d0230c",
   "metadata": {},
   "outputs": [],
   "source": [
    "jobs2020= df_new2020['Job ID'].unique()\n",
    "jobsper2020 = len(jobs2020)"
   ]
  },
  {
   "cell_type": "code",
   "execution_count": 32,
   "id": "0cf07e3e",
   "metadata": {},
   "outputs": [],
   "source": [
    "jobs2021= df_new2021['Job ID'].unique()\n",
    "jobsper2021 = len(jobs2021)"
   ]
  },
  {
   "cell_type": "code",
   "execution_count": 33,
   "id": "171905db",
   "metadata": {},
   "outputs": [],
   "source": [
    "jobs2022= df_new2022['Job ID'].unique()\n",
    "jobsper2022 = len(jobs2022)"
   ]
  },
  {
   "cell_type": "code",
   "execution_count": null,
   "id": "af8e41f8",
   "metadata": {},
   "outputs": [],
   "source": [
    "numberofjobsperyear = [jobsper2018, jobsper2019, jobsper2020, jobsper2021, jobsper2022]\n",
    "yearly_index = ['2018', '2019', '2020', '2021', '2022']\n",
    "\n",
    "yearly_df = pd.DataFrame({'Number of Jobs' : numberofjobsperyear}, index=yearly_index)\n",
    "\n",
    "ax = yearly_df.plot.bar(rot=0, title = 'Amount of servers requested per year')"
   ]
  },
  {
   "cell_type": "code",
   "execution_count": 38,
   "id": "ff5c8ab4",
   "metadata": {},
   "outputs": [
    {
     "data": {
      "text/plain": [
       "array(['CTC-KC-III', 'STCK-25-DC01', 'CTC-LS-IV', 'CTC-KC-I', 'CTC-LS-VI',\n",
       "       'SLOUGHEQUINIXLD5-DC1', 'CTC-LS-III', 'CTC-KC-II', 'CTC-KC-VIII',\n",
       "       'MARK-371-FL01', 'CTC-LS-V', 'CTC-KC-VII', nan, 'WGC-20-FL01',\n",
       "       'CTC-LS-II', 'CTC-KCBUILD1', 'BRISISEEKEAGLE-DC1', 'CLIENT-SITE',\n",
       "       'UPPLANDS-DS1-DC02', 'BRMP-30-FL01', 'Unanderra-IT3',\n",
       "       'PAN-110-DC01', 'CTC-LS-IV ', 'CTC-LS-I', 'KALR-39-FL04',\n",
       "       'MLVN-35-DC01', 'BRISISEEKWLNGABA-DC1', 'BRLN-50-DC01'],\n",
       "      dtype=object)"
      ]
     },
     "execution_count": 38,
     "metadata": {},
     "output_type": "execute_result"
    }
   ],
   "source": [
    "df3 = df['Ticket Site Name'].unique()\n",
    "df3"
   ]
  },
  {
   "cell_type": "code",
   "execution_count": 41,
   "id": "006c4d6d",
   "metadata": {},
   "outputs": [],
   "source": [
    "df_ticketsite1 = df[(df['Ticket Site Name']=='CTC-KC-III')]\n",
    "df_ticketsite2 = df[(df['Ticket Site Name']=='STCK-25-DC01')]\n",
    "df_ticketsite3 = df[(df['Ticket Site Name']=='CTC-LS-IV')]\n",
    "df_ticketsite4 = df[(df['Ticket Site Name']=='CTC-KC-I')]\n",
    "df_ticketsite5 = df[(df['Ticket Site Name']=='CTC-LS-VI')]\n",
    "df_ticketsite6 = df[(df['Ticket Site Name']=='SLOUGHEQUINIXLD5-DC1')]\n",
    "df_ticketsite7 = df[(df['Ticket Site Name']=='CTC-LS-III')]\n",
    "df_ticketsite8 = df[(df['Ticket Site Name']=='CTC-KC-II')]\n",
    "df_ticketsite9 = df[(df['Ticket Site Name']=='CTC-KC-VIII')]\n",
    "df_ticketsite10 = df[(df['Ticket Site Name']=='MARK-371-FL01')]\n",
    "ts1 = len(df_ticketsite1)\n",
    "ts2 = len(df_ticketsite2)\n",
    "ts3 = len(df_ticketsite3)\n",
    "ts4 = len(df_ticketsite4)\n",
    "ts5 = len(df_ticketsite5)\n",
    "ts6 = len(df_ticketsite6)\n",
    "ts7 = len(df_ticketsite7)\n",
    "ts8 = len(df_ticketsite8)\n",
    "ts9 = len(df_ticketsite9)\n",
    "ts10 = len(df_ticketsite10)\n"
   ]
  },
  {
   "cell_type": "code",
   "execution_count": null,
   "id": "1aa159cb",
   "metadata": {},
   "outputs": [],
   "source": [
    "numberofjobsatgivendcen = [ts1, ts2, ts3, ts4, ts5, ts6, ts7, ts8, ts9, ts10]\n",
    "yearly_index = ['CTC-KC-III', 'STCK-25-DC01', 'CTC-LS-IV', 'CTC-KC-I', 'CTC-LS-VI',\n",
    "       'SLOUGHEQUINIXLD5-DC1', 'CTC-LS-III', 'CTC-KC-II', 'CTC-KC-VIII',\n",
    "       'MARK-371-FL01']\n",
    "\n",
    "yearly_df = pd.DataFrame({'Number requested' : numberofjobsatgivendcen}, index = yearly_index)\n",
    "\n",
    "ax = yearly_df.plot.bar(rot=0, title = 'Amount of servers requested per center total')"
   ]
  },
  {
   "cell_type": "code",
   "execution_count": null,
   "id": "86f7a3fa",
   "metadata": {},
   "outputs": [],
   "source": [
    "\n",
    "successes_2022_df = df_new2022.loc[df_new2022['Site Name'] == 'CTC-KC-III']\n",
    "successes_2022_df_values = successes_2022_df.value_counts(['First Site Name'])\n",
    "\n",
    "# Plotting the data to show the values\n",
    "successes_2022_df.value_counts(['First Site Name']).sort_values().plot(kind='barh', title='Amount of servers from a specific center')\n"
   ]
  },
  {
   "cell_type": "code",
   "execution_count": null,
   "id": "bcb800f2",
   "metadata": {},
   "outputs": [],
   "source": [
    "len(df)"
   ]
  },
  {
   "cell_type": "code",
   "execution_count": null,
   "id": "63fb5e9d",
   "metadata": {},
   "outputs": [],
   "source": [
    "df['Solution Name'].unique()"
   ]
  },
  {
   "cell_type": "code",
   "execution_count": null,
   "id": "658b1f6a",
   "metadata": {},
   "outputs": [],
   "source": [
    "df['Compute Config CPU'].unique()"
   ]
  },
  {
   "cell_type": "code",
   "execution_count": null,
   "id": "e107135e",
   "metadata": {},
   "outputs": [],
   "source": [
    "df['Hardware Name'].unique()\n",
    "#unique server names"
   ]
  }
 ],
 "metadata": {
  "kernelspec": {
   "display_name": "Python 3 (ipykernel)",
   "language": "python",
   "name": "python3"
  },
  "language_info": {
   "codemirror_mode": {
    "name": "ipython",
    "version": 3
   },
   "file_extension": ".py",
   "mimetype": "text/x-python",
   "name": "python",
   "nbconvert_exporter": "python",
   "pygments_lexer": "ipython3",
   "version": "3.11.5"
  }
 },
 "nbformat": 4,
 "nbformat_minor": 5
}
