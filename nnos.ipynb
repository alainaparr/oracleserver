{
 "cells": [
  {
   "cell_type": "code",
   "execution_count": 41,
   "metadata": {},
   "outputs": [],
   "source": [
    "import pandas as pd\n",
    "import numpy as np\n",
    "import matplotlib.pyplot as plt\n",
    "import torch\n",
    "import torch.nn as nn\n",
    "import torch.optim as optim\n",
    "from torch.utils.data import DataLoader, TensorDataset\n",
    "from sklearn.preprocessing import OneHotEncoder\n",
    "from sklearn.decomposition import PCA\n",
    "from sklearn.model_selection import train_test_split\n",
    "from sklearn.preprocessing import LabelEncoder"
   ]
  },
  {
   "cell_type": "code",
   "execution_count": 42,
   "metadata": {},
   "outputs": [],
   "source": [
    "df = pd.read_csv('ClosedStack_data_Virtual.csv', low_memory= False, encoding='latin-1')"
   ]
  },
  {
   "cell_type": "code",
   "execution_count": 43,
   "metadata": {},
   "outputs": [],
   "source": [
    "df_new = df[[ 'Job ID','Hardware ID', 'Hardware Name', 'Solution ID', 'Ticket Site','Site Name', 'Job Created']]"
   ]
  },
  {
   "cell_type": "code",
   "execution_count": 126,
   "metadata": {},
   "outputs": [
    {
     "name": "stdout",
     "output_type": "stream",
     "text": [
      "29790    2019-02-01\n",
      "29796    2019-04-09\n",
      "29797    2019-01-25\n",
      "29798    2019-03-09\n",
      "29799    2019-02-06\n",
      "            ...    \n",
      "86458    2019-01-02\n",
      "86463    2019-01-02\n",
      "86471    2019-01-02\n",
      "86616    2019-01-02\n",
      "86617    2019-01-02\n",
      "Name: Job Created, Length: 19300, dtype: object\n"
     ]
    }
   ],
   "source": [
    "\n",
    "df_new2019 = df_new.loc[(df_new['Job Created'] <= \"2019-08-01 00:00:00.000000\") & (df_new['Job Created'] >= \"2019-01-01 00:00:00.000000\")]\n",
    "#take off minute seconds hour, deliniate based of space, year month day on dashes, change strings to integers\n",
    "df_filtered = df_new2019.dropna(subset=['Job ID', 'Job Created', 'Solution ID'])\n",
    "df_filtered.loc[:,'Job Created'] = pd.to_datetime(df_filtered['Job Created']).dt.strftime('%Y-%m-%d')\n",
    "print (df_filtered.loc[:, 'Job Created'])\n"
   ]
  },
  {
   "cell_type": "code",
   "execution_count": 127,
   "metadata": {},
   "outputs": [],
   "source": [
    "# One-Hot encode the 'Solution ID' column\n",
    "onehot_encoder = OneHotEncoder()\n",
    "solution_id_encoded = onehot_encoder.fit_transform(df_filtered[['Solution ID']]).toarray()"
   ]
  },
  {
   "cell_type": "code",
   "execution_count": 128,
   "metadata": {},
   "outputs": [],
   "source": [
    "\n",
    "# One-Hot encode the categorical columns (in this case, 'Job ID')\n",
    "categorical_cols = ['Job ID']\n",
    "encoder = OneHotEncoder()\n",
    "categorical_encoded = encoder.fit_transform(df_filtered[categorical_cols]).toarray()"
   ]
  },
  {
   "cell_type": "code",
   "execution_count": 129,
   "metadata": {},
   "outputs": [],
   "source": [
    "onehot_encoder = OneHotEncoder()\n",
    "jobcreated_encoded = onehot_encoder.fit_transform(df_filtered[['Job Created']]).toarray()"
   ]
  },
  {
   "cell_type": "code",
   "execution_count": 130,
   "metadata": {},
   "outputs": [],
   "source": [
    "# Concatenate one-hot encoded 'Solution ID' and categorical columns\n",
    "X_categorical = np.concatenate([categorical_encoded, solution_id_encoded], axis=1)"
   ]
  },
  {
   "cell_type": "code",
   "execution_count": 131,
   "metadata": {},
   "outputs": [],
   "source": [
    "y = np.concatenate([jobcreated_encoded], axis=1)"
   ]
  },
  {
   "cell_type": "code",
   "execution_count": 132,
   "metadata": {},
   "outputs": [],
   "source": [
    "# PCA for combined features\n",
    "pca_categorical = PCA(n_components=50)\n",
    "X_catagorical_pca = pca_categorical.fit_transform(X_categorical)"
   ]
  },
  {
   "cell_type": "code",
   "execution_count": 133,
   "metadata": {},
   "outputs": [],
   "source": [
    "# Split the data into training and testing sets\n",
    "X_train, X_test, y_train, y_test = train_test_split(X_catagorical_pca, y, test_size=0.3, random_state=42)\n",
    "\n",
    "X_train = X_train.astype(np.float64)\n",
    "X_test = X_test.astype(np.float64)\n",
    "\n",
    "y_train = y_train.astype(np.float64)\n",
    "y_test = y_test.astype(np.float64)"
   ]
  },
  {
   "cell_type": "code",
   "execution_count": 141,
   "metadata": {},
   "outputs": [],
   "source": [
    "# Convert NumPy arrays to PyTorch tensors\n",
    "X_train_tensor = torch.tensor(X_train, dtype=torch.float32)\n",
    "y_train_tensor = torch.tensor(y_train, dtype=torch.float32)\n",
    "\n",
    "X_test_tensor = torch.tensor(X_test, dtype=torch.float32)\n",
    "y_test_tensor = torch.tensor(y_test, dtype=torch.float32)"
   ]
  },
  {
   "cell_type": "code",
   "execution_count": 142,
   "metadata": {},
   "outputs": [],
   "source": [
    "\n",
    "# Create DataLoader for training and testing data\n",
    "train_dataset = TensorDataset(X_train_tensor, y_train_tensor)\n",
    "train_loader = DataLoader(train_dataset, batch_size=64, shuffle=True)\n",
    "\n",
    "test_dataset = TensorDataset(X_test_tensor, y_test_tensor)\n",
    "test_loader = DataLoader(test_dataset, batch_size=64, shuffle=False)"
   ]
  },
  {
   "cell_type": "code",
   "execution_count": 143,
   "metadata": {},
   "outputs": [],
   "source": [
    "# Define custom neural network model\n",
    "class NeuralNetwork(nn.Module):\n",
    "    def __init__(self, input_size):\n",
    "        super(NeuralNetwork, self).__init__()\n",
    "        self.fc1 = nn.Linear(input_size, 128)  # Input size is the number of features after PCA\n",
    "        self.fc2 = nn.Linear(128, 3456)  # Output size is 1 for regression task\n",
    "\n",
    "    def forward(self, x):\n",
    "        x = torch.relu(self.fc1(x))\n",
    "        x = self.fc2(x)\n",
    "        return x"
   ]
  },
  {
   "cell_type": "code",
   "execution_count": 144,
   "metadata": {},
   "outputs": [],
   "source": [
    "# Initialize the model, loss function, and optimizer\n",
    "model = NeuralNetwork(input_size=X_catagorical_pca.shape[1])\n",
    "criterion = nn.MSELoss()  # Mean Squared Error loss for regression task\n",
    "optimizer = optim.Adam(model.parameters(), lr=0.001)"
   ]
  },
  {
   "cell_type": "code",
   "execution_count": 145,
   "metadata": {},
   "outputs": [
    {
     "name": "stderr",
     "output_type": "stream",
     "text": [
      "c:\\Users\\Alaina\\AppData\\Local\\Programs\\Python\\Python311\\Lib\\site-packages\\torch\\nn\\modules\\loss.py:535: UserWarning: Using a target size (torch.Size([64, 178])) that is different to the input size (torch.Size([64, 3456])). This will likely lead to incorrect results due to broadcasting. Please ensure they have the same size.\n",
      "  return F.mse_loss(input, target, reduction=self.reduction)\n"
     ]
    },
    {
     "ename": "RuntimeError",
     "evalue": "The size of tensor a (3456) must match the size of tensor b (178) at non-singleton dimension 1",
     "output_type": "error",
     "traceback": [
      "\u001b[1;31m---------------------------------------------------------------------------\u001b[0m",
      "\u001b[1;31mRuntimeError\u001b[0m                              Traceback (most recent call last)",
      "\u001b[1;32mc:\\Users\\Alaina\\oracleserver\\nnos.ipynb Cell 16\u001b[0m line \u001b[0;36m9\n\u001b[0;32m      <a href='vscode-notebook-cell:/c%3A/Users/Alaina/oracleserver/nnos.ipynb#X30sZmlsZQ%3D%3D?line=4'>5</a>\u001b[0m optimizer\u001b[39m.\u001b[39mzero_grad()\n\u001b[0;32m      <a href='vscode-notebook-cell:/c%3A/Users/Alaina/oracleserver/nnos.ipynb#X30sZmlsZQ%3D%3D?line=5'>6</a>\u001b[0m outputs \u001b[39m=\u001b[39m model(batch_X)\n\u001b[1;32m----> <a href='vscode-notebook-cell:/c%3A/Users/Alaina/oracleserver/nnos.ipynb#X30sZmlsZQ%3D%3D?line=8'>9</a>\u001b[0m loss \u001b[39m=\u001b[39m criterion(outputs, batch_y)\n\u001b[0;32m     <a href='vscode-notebook-cell:/c%3A/Users/Alaina/oracleserver/nnos.ipynb#X30sZmlsZQ%3D%3D?line=9'>10</a>\u001b[0m loss\u001b[39m.\u001b[39mbackward()\n\u001b[0;32m     <a href='vscode-notebook-cell:/c%3A/Users/Alaina/oracleserver/nnos.ipynb#X30sZmlsZQ%3D%3D?line=10'>11</a>\u001b[0m optimizer\u001b[39m.\u001b[39mstep()\n",
      "File \u001b[1;32mc:\\Users\\Alaina\\AppData\\Local\\Programs\\Python\\Python311\\Lib\\site-packages\\torch\\nn\\modules\\module.py:1518\u001b[0m, in \u001b[0;36mModule._wrapped_call_impl\u001b[1;34m(self, *args, **kwargs)\u001b[0m\n\u001b[0;32m   1516\u001b[0m     \u001b[39mreturn\u001b[39;00m \u001b[39mself\u001b[39m\u001b[39m.\u001b[39m_compiled_call_impl(\u001b[39m*\u001b[39margs, \u001b[39m*\u001b[39m\u001b[39m*\u001b[39mkwargs)  \u001b[39m# type: ignore[misc]\u001b[39;00m\n\u001b[0;32m   1517\u001b[0m \u001b[39melse\u001b[39;00m:\n\u001b[1;32m-> 1518\u001b[0m     \u001b[39mreturn\u001b[39;00m \u001b[39mself\u001b[39;49m\u001b[39m.\u001b[39;49m_call_impl(\u001b[39m*\u001b[39;49margs, \u001b[39m*\u001b[39;49m\u001b[39m*\u001b[39;49mkwargs)\n",
      "File \u001b[1;32mc:\\Users\\Alaina\\AppData\\Local\\Programs\\Python\\Python311\\Lib\\site-packages\\torch\\nn\\modules\\module.py:1527\u001b[0m, in \u001b[0;36mModule._call_impl\u001b[1;34m(self, *args, **kwargs)\u001b[0m\n\u001b[0;32m   1522\u001b[0m \u001b[39m# If we don't have any hooks, we want to skip the rest of the logic in\u001b[39;00m\n\u001b[0;32m   1523\u001b[0m \u001b[39m# this function, and just call forward.\u001b[39;00m\n\u001b[0;32m   1524\u001b[0m \u001b[39mif\u001b[39;00m \u001b[39mnot\u001b[39;00m (\u001b[39mself\u001b[39m\u001b[39m.\u001b[39m_backward_hooks \u001b[39mor\u001b[39;00m \u001b[39mself\u001b[39m\u001b[39m.\u001b[39m_backward_pre_hooks \u001b[39mor\u001b[39;00m \u001b[39mself\u001b[39m\u001b[39m.\u001b[39m_forward_hooks \u001b[39mor\u001b[39;00m \u001b[39mself\u001b[39m\u001b[39m.\u001b[39m_forward_pre_hooks\n\u001b[0;32m   1525\u001b[0m         \u001b[39mor\u001b[39;00m _global_backward_pre_hooks \u001b[39mor\u001b[39;00m _global_backward_hooks\n\u001b[0;32m   1526\u001b[0m         \u001b[39mor\u001b[39;00m _global_forward_hooks \u001b[39mor\u001b[39;00m _global_forward_pre_hooks):\n\u001b[1;32m-> 1527\u001b[0m     \u001b[39mreturn\u001b[39;00m forward_call(\u001b[39m*\u001b[39;49margs, \u001b[39m*\u001b[39;49m\u001b[39m*\u001b[39;49mkwargs)\n\u001b[0;32m   1529\u001b[0m \u001b[39mtry\u001b[39;00m:\n\u001b[0;32m   1530\u001b[0m     result \u001b[39m=\u001b[39m \u001b[39mNone\u001b[39;00m\n",
      "File \u001b[1;32mc:\\Users\\Alaina\\AppData\\Local\\Programs\\Python\\Python311\\Lib\\site-packages\\torch\\nn\\modules\\loss.py:535\u001b[0m, in \u001b[0;36mMSELoss.forward\u001b[1;34m(self, input, target)\u001b[0m\n\u001b[0;32m    534\u001b[0m \u001b[39mdef\u001b[39;00m \u001b[39mforward\u001b[39m(\u001b[39mself\u001b[39m, \u001b[39minput\u001b[39m: Tensor, target: Tensor) \u001b[39m-\u001b[39m\u001b[39m>\u001b[39m Tensor:\n\u001b[1;32m--> 535\u001b[0m     \u001b[39mreturn\u001b[39;00m F\u001b[39m.\u001b[39;49mmse_loss(\u001b[39minput\u001b[39;49m, target, reduction\u001b[39m=\u001b[39;49m\u001b[39mself\u001b[39;49m\u001b[39m.\u001b[39;49mreduction)\n",
      "File \u001b[1;32mc:\\Users\\Alaina\\AppData\\Local\\Programs\\Python\\Python311\\Lib\\site-packages\\torch\\nn\\functional.py:3328\u001b[0m, in \u001b[0;36mmse_loss\u001b[1;34m(input, target, size_average, reduce, reduction)\u001b[0m\n\u001b[0;32m   3325\u001b[0m \u001b[39mif\u001b[39;00m size_average \u001b[39mis\u001b[39;00m \u001b[39mnot\u001b[39;00m \u001b[39mNone\u001b[39;00m \u001b[39mor\u001b[39;00m reduce \u001b[39mis\u001b[39;00m \u001b[39mnot\u001b[39;00m \u001b[39mNone\u001b[39;00m:\n\u001b[0;32m   3326\u001b[0m     reduction \u001b[39m=\u001b[39m _Reduction\u001b[39m.\u001b[39mlegacy_get_string(size_average, reduce)\n\u001b[1;32m-> 3328\u001b[0m expanded_input, expanded_target \u001b[39m=\u001b[39m torch\u001b[39m.\u001b[39;49mbroadcast_tensors(\u001b[39minput\u001b[39;49m, target)\n\u001b[0;32m   3329\u001b[0m \u001b[39mreturn\u001b[39;00m torch\u001b[39m.\u001b[39m_C\u001b[39m.\u001b[39m_nn\u001b[39m.\u001b[39mmse_loss(expanded_input, expanded_target, _Reduction\u001b[39m.\u001b[39mget_enum(reduction))\n",
      "File \u001b[1;32mc:\\Users\\Alaina\\AppData\\Local\\Programs\\Python\\Python311\\Lib\\site-packages\\torch\\functional.py:73\u001b[0m, in \u001b[0;36mbroadcast_tensors\u001b[1;34m(*tensors)\u001b[0m\n\u001b[0;32m     71\u001b[0m \u001b[39mif\u001b[39;00m has_torch_function(tensors):\n\u001b[0;32m     72\u001b[0m     \u001b[39mreturn\u001b[39;00m handle_torch_function(broadcast_tensors, tensors, \u001b[39m*\u001b[39mtensors)\n\u001b[1;32m---> 73\u001b[0m \u001b[39mreturn\u001b[39;00m _VF\u001b[39m.\u001b[39;49mbroadcast_tensors(tensors)\n",
      "\u001b[1;31mRuntimeError\u001b[0m: The size of tensor a (3456) must match the size of tensor b (178) at non-singleton dimension 1"
     ]
    }
   ],
   "source": [
    "# Train the model\n",
    "num_epochs = 10\n",
    "for epoch in range(num_epochs):\n",
    "    for batch_X, batch_y in train_loader:\n",
    "        optimizer.zero_grad()\n",
    "        outputs = model(batch_X)\n",
    "        \n",
    "\n",
    "        loss = criterion(outputs, batch_y)\n",
    "        loss.backward()\n",
    "        optimizer.step()"
   ]
  },
  {
   "cell_type": "code",
   "execution_count": 139,
   "metadata": {},
   "outputs": [
    {
     "name": "stderr",
     "output_type": "stream",
     "text": [
      "c:\\Users\\Alaina\\AppData\\Local\\Programs\\Python\\Python311\\Lib\\site-packages\\torch\\nn\\modules\\loss.py:535: UserWarning: Using a target size (torch.Size([5790, 1, 178])) that is different to the input size (torch.Size([5790, 3456])). This will likely lead to incorrect results due to broadcasting. Please ensure they have the same size.\n",
      "  return F.mse_loss(input, target, reduction=self.reduction)\n"
     ]
    },
    {
     "ename": "RuntimeError",
     "evalue": "The size of tensor a (3456) must match the size of tensor b (178) at non-singleton dimension 2",
     "output_type": "error",
     "traceback": [
      "\u001b[1;31m---------------------------------------------------------------------------\u001b[0m",
      "\u001b[1;31mRuntimeError\u001b[0m                              Traceback (most recent call last)",
      "\u001b[1;32mc:\\Users\\Alaina\\oracleserver\\nnos.ipynb Cell 17\u001b[0m line \u001b[0;36m5\n\u001b[0;32m      <a href='vscode-notebook-cell:/c%3A/Users/Alaina/oracleserver/nnos.ipynb#X12sZmlsZQ%3D%3D?line=2'>3</a>\u001b[0m \u001b[39mwith\u001b[39;00m torch\u001b[39m.\u001b[39mno_grad():\n\u001b[0;32m      <a href='vscode-notebook-cell:/c%3A/Users/Alaina/oracleserver/nnos.ipynb#X12sZmlsZQ%3D%3D?line=3'>4</a>\u001b[0m     test_outputs \u001b[39m=\u001b[39m model(X_test_tensor)\n\u001b[1;32m----> <a href='vscode-notebook-cell:/c%3A/Users/Alaina/oracleserver/nnos.ipynb#X12sZmlsZQ%3D%3D?line=4'>5</a>\u001b[0m     mse \u001b[39m=\u001b[39m criterion(test_outputs, y_test_tensor)\n\u001b[0;32m      <a href='vscode-notebook-cell:/c%3A/Users/Alaina/oracleserver/nnos.ipynb#X12sZmlsZQ%3D%3D?line=5'>6</a>\u001b[0m     \u001b[39mprint\u001b[39m(\u001b[39m\"\u001b[39m\u001b[39mMean Squared Error on Test Data:\u001b[39m\u001b[39m\"\u001b[39m, mse\u001b[39m.\u001b[39mitem())\n",
      "File \u001b[1;32mc:\\Users\\Alaina\\AppData\\Local\\Programs\\Python\\Python311\\Lib\\site-packages\\torch\\nn\\modules\\module.py:1518\u001b[0m, in \u001b[0;36mModule._wrapped_call_impl\u001b[1;34m(self, *args, **kwargs)\u001b[0m\n\u001b[0;32m   1516\u001b[0m     \u001b[39mreturn\u001b[39;00m \u001b[39mself\u001b[39m\u001b[39m.\u001b[39m_compiled_call_impl(\u001b[39m*\u001b[39margs, \u001b[39m*\u001b[39m\u001b[39m*\u001b[39mkwargs)  \u001b[39m# type: ignore[misc]\u001b[39;00m\n\u001b[0;32m   1517\u001b[0m \u001b[39melse\u001b[39;00m:\n\u001b[1;32m-> 1518\u001b[0m     \u001b[39mreturn\u001b[39;00m \u001b[39mself\u001b[39;49m\u001b[39m.\u001b[39;49m_call_impl(\u001b[39m*\u001b[39;49margs, \u001b[39m*\u001b[39;49m\u001b[39m*\u001b[39;49mkwargs)\n",
      "File \u001b[1;32mc:\\Users\\Alaina\\AppData\\Local\\Programs\\Python\\Python311\\Lib\\site-packages\\torch\\nn\\modules\\module.py:1527\u001b[0m, in \u001b[0;36mModule._call_impl\u001b[1;34m(self, *args, **kwargs)\u001b[0m\n\u001b[0;32m   1522\u001b[0m \u001b[39m# If we don't have any hooks, we want to skip the rest of the logic in\u001b[39;00m\n\u001b[0;32m   1523\u001b[0m \u001b[39m# this function, and just call forward.\u001b[39;00m\n\u001b[0;32m   1524\u001b[0m \u001b[39mif\u001b[39;00m \u001b[39mnot\u001b[39;00m (\u001b[39mself\u001b[39m\u001b[39m.\u001b[39m_backward_hooks \u001b[39mor\u001b[39;00m \u001b[39mself\u001b[39m\u001b[39m.\u001b[39m_backward_pre_hooks \u001b[39mor\u001b[39;00m \u001b[39mself\u001b[39m\u001b[39m.\u001b[39m_forward_hooks \u001b[39mor\u001b[39;00m \u001b[39mself\u001b[39m\u001b[39m.\u001b[39m_forward_pre_hooks\n\u001b[0;32m   1525\u001b[0m         \u001b[39mor\u001b[39;00m _global_backward_pre_hooks \u001b[39mor\u001b[39;00m _global_backward_hooks\n\u001b[0;32m   1526\u001b[0m         \u001b[39mor\u001b[39;00m _global_forward_hooks \u001b[39mor\u001b[39;00m _global_forward_pre_hooks):\n\u001b[1;32m-> 1527\u001b[0m     \u001b[39mreturn\u001b[39;00m forward_call(\u001b[39m*\u001b[39;49margs, \u001b[39m*\u001b[39;49m\u001b[39m*\u001b[39;49mkwargs)\n\u001b[0;32m   1529\u001b[0m \u001b[39mtry\u001b[39;00m:\n\u001b[0;32m   1530\u001b[0m     result \u001b[39m=\u001b[39m \u001b[39mNone\u001b[39;00m\n",
      "File \u001b[1;32mc:\\Users\\Alaina\\AppData\\Local\\Programs\\Python\\Python311\\Lib\\site-packages\\torch\\nn\\modules\\loss.py:535\u001b[0m, in \u001b[0;36mMSELoss.forward\u001b[1;34m(self, input, target)\u001b[0m\n\u001b[0;32m    534\u001b[0m \u001b[39mdef\u001b[39;00m \u001b[39mforward\u001b[39m(\u001b[39mself\u001b[39m, \u001b[39minput\u001b[39m: Tensor, target: Tensor) \u001b[39m-\u001b[39m\u001b[39m>\u001b[39m Tensor:\n\u001b[1;32m--> 535\u001b[0m     \u001b[39mreturn\u001b[39;00m F\u001b[39m.\u001b[39;49mmse_loss(\u001b[39minput\u001b[39;49m, target, reduction\u001b[39m=\u001b[39;49m\u001b[39mself\u001b[39;49m\u001b[39m.\u001b[39;49mreduction)\n",
      "File \u001b[1;32mc:\\Users\\Alaina\\AppData\\Local\\Programs\\Python\\Python311\\Lib\\site-packages\\torch\\nn\\functional.py:3328\u001b[0m, in \u001b[0;36mmse_loss\u001b[1;34m(input, target, size_average, reduce, reduction)\u001b[0m\n\u001b[0;32m   3325\u001b[0m \u001b[39mif\u001b[39;00m size_average \u001b[39mis\u001b[39;00m \u001b[39mnot\u001b[39;00m \u001b[39mNone\u001b[39;00m \u001b[39mor\u001b[39;00m reduce \u001b[39mis\u001b[39;00m \u001b[39mnot\u001b[39;00m \u001b[39mNone\u001b[39;00m:\n\u001b[0;32m   3326\u001b[0m     reduction \u001b[39m=\u001b[39m _Reduction\u001b[39m.\u001b[39mlegacy_get_string(size_average, reduce)\n\u001b[1;32m-> 3328\u001b[0m expanded_input, expanded_target \u001b[39m=\u001b[39m torch\u001b[39m.\u001b[39;49mbroadcast_tensors(\u001b[39minput\u001b[39;49m, target)\n\u001b[0;32m   3329\u001b[0m \u001b[39mreturn\u001b[39;00m torch\u001b[39m.\u001b[39m_C\u001b[39m.\u001b[39m_nn\u001b[39m.\u001b[39mmse_loss(expanded_input, expanded_target, _Reduction\u001b[39m.\u001b[39mget_enum(reduction))\n",
      "File \u001b[1;32mc:\\Users\\Alaina\\AppData\\Local\\Programs\\Python\\Python311\\Lib\\site-packages\\torch\\functional.py:73\u001b[0m, in \u001b[0;36mbroadcast_tensors\u001b[1;34m(*tensors)\u001b[0m\n\u001b[0;32m     71\u001b[0m \u001b[39mif\u001b[39;00m has_torch_function(tensors):\n\u001b[0;32m     72\u001b[0m     \u001b[39mreturn\u001b[39;00m handle_torch_function(broadcast_tensors, tensors, \u001b[39m*\u001b[39mtensors)\n\u001b[1;32m---> 73\u001b[0m \u001b[39mreturn\u001b[39;00m _VF\u001b[39m.\u001b[39;49mbroadcast_tensors(tensors)\n",
      "\u001b[1;31mRuntimeError\u001b[0m: The size of tensor a (3456) must match the size of tensor b (178) at non-singleton dimension 2"
     ]
    }
   ],
   "source": [
    "# Evaluate the model\n",
    "model.eval()\n",
    "with torch.no_grad():\n",
    "    test_outputs = model(X_test_tensor)\n",
    "    mse = criterion(test_outputs, y_test_tensor)\n",
    "    print(\"Mean Squared Error on Test Data:\", mse.item())"
   ]
  },
  {
   "cell_type": "code",
   "execution_count": 11,
   "metadata": {},
   "outputs": [
    {
     "data": {
      "text/plain": [
       "array(['03145e08-3c9f-4514-9acc-02a1657fee80',\n",
       "       '71e4908b-9e81-4641-929c-08dd9876a69b',\n",
       "       '9aa697ea-ca66-4064-b669-096c647d26a4',\n",
       "       '1ac664c0-34dd-4f8d-90ae-262319c76f5d',\n",
       "       '897c2511-c6ef-4552-ba23-8744dd6ea439',\n",
       "       'c01f7ab8-d51a-4234-9826-4e814f592368',\n",
       "       'a4c66551-9b21-454a-8929-61f8fe2fc37e',\n",
       "       'db503ea2-e70d-47bd-9a11-f76a5b30c0b3',\n",
       "       'eaff2e4c-a5ba-4547-a5bd-6946885ebe3e',\n",
       "       '19ad77e9-b248-4239-90d7-9a463496834e',\n",
       "       '2f099dbb-7ab6-42de-9bff-8ab0fd4632e8',\n",
       "       'af088fd4-c01c-44c6-b985-4db915230b01',\n",
       "       '0b7f55e7-f2ed-4499-9bcb-a249825e5502',\n",
       "       '2d020295-2a92-4789-9963-e55864097293',\n",
       "       '86c7197c-ab92-4ba6-9ef2-93f44d2e66d5',\n",
       "       '35f9c687-de0f-4a77-8e21-eac3ed623fcb',\n",
       "       '56acc9f9-f460-4c27-b904-e54b1d6c1703',\n",
       "       '25888a34-c2d1-4bdb-9926-8b13822820cd', nan,\n",
       "       'a669d4f4-fef6-4a96-a0b8-12cb5d61b8e6',\n",
       "       'bee59aba-5835-491b-93d5-26c73f882900',\n",
       "       '91134aac-fd3b-4acb-b3f5-22ff63e6fe43',\n",
       "       'c6886204-72b2-4cc2-89bf-98ee15ffe0d7',\n",
       "       '64483b8e-535c-46cd-9377-bc42d637ab35',\n",
       "       '98fd42e2-df9f-4a31-b68f-5ee3befd1e05',\n",
       "       '1709613b-c243-4ff5-820e-48f5f95c5f6d',\n",
       "       'ae1225dd-f6ca-4e76-8717-44ba6f1e61de',\n",
       "       '763a8f06-d853-4495-93bf-945e923a1ab4',\n",
       "       'b8797276-850f-4940-91b6-5548c5675c07',\n",
       "       '34f52aea-8923-46e5-ac6e-1780db87619e',\n",
       "       '5a2885d9-93f9-44a8-818f-b28e28c6a838',\n",
       "       'be579976-b3cd-45bb-bdd7-d944a4031d72',\n",
       "       '98c2ed36-74fa-49eb-9699-e33241e88e76',\n",
       "       'dfab937b-4d30-4b3d-a62f-f3723cd297d5',\n",
       "       '07c5980e-3b94-4acc-a244-d9ffa2ca64f6',\n",
       "       'f3662f70-7f89-44ce-824e-4959c66b29ea',\n",
       "       '3849d628-95b9-4d13-8371-aa99ee00b17a',\n",
       "       '7565ca96-f30b-4f7b-b71b-a135d0851c08',\n",
       "       '3aaf853d-5874-4f22-9c8b-f58bf28f9a9b',\n",
       "       'c02ecdea-ef98-4ea1-8e18-ead8d7c3204b',\n",
       "       '6f5afc08-ab74-4558-b0e7-9e2e52170cf5',\n",
       "       '52edf1c4-365d-48d4-8d66-2a11584b2b1c',\n",
       "       'aa27c410-64a2-439d-aea2-57468a48a969',\n",
       "       'e7cadc9c-ef1c-438c-b96a-2f8a79a5dd75',\n",
       "       'd6e6987e-9566-4a25-8ae6-191144ed661d',\n",
       "       'a487d3da-b559-4e13-a490-399bc352d4f7',\n",
       "       '35fb8dbc-34d8-4b64-bf08-bdecd034d1e8',\n",
       "       '1c4ef5c2-874c-498d-9a3b-9477fbfa5a35',\n",
       "       '52a0c6a7-2f62-40a2-a04d-9d55a5e6f9a7',\n",
       "       'a32ad159-10d1-4be8-9bf0-736ee8aad209',\n",
       "       '558e6fe0-fd1f-4722-b3d2-8896f5aa95cf',\n",
       "       '8d35b636-50b4-4201-a4e3-7d4964f47876',\n",
       "       '2e5016ce-d324-4f1f-9022-199a49efb610',\n",
       "       '7b689774-0573-40fe-9da6-88cb4c8cd32f',\n",
       "       '6e5737f5-92bc-4805-ab28-04b1235fd553',\n",
       "       '75b71507-e69b-4734-ae5f-5a0838b65bcf',\n",
       "       '129e6f40-4708-4d9d-93a7-99f980eaf345',\n",
       "       'd680d113-009b-4435-b182-5b25cfd4d47a',\n",
       "       'e98799ee-7900-4115-aa22-7206120062f7',\n",
       "       '634ae6ef-70c6-4a20-ac1f-6e8617f9b5f9',\n",
       "       '611cccbf-6abc-4730-9fc2-cac92fddd81f',\n",
       "       '0d8333ad-1fe8-4b7f-a384-a6397d6a23d6',\n",
       "       '4583f01e-8b78-4e0d-83e6-9f2ea6d99cc3',\n",
       "       'b9da8e18-cdd0-4f68-8000-0c6538c9cb1d',\n",
       "       '8c08c8e3-80b8-4ad3-b900-8d5ab94c5446',\n",
       "       '58242480-ba3f-42e2-b7f5-4770c5420a04',\n",
       "       '892c0e80-affc-4725-904c-462ce12a7a4f',\n",
       "       '010b0163-4823-4c92-a384-273d45d9ef77',\n",
       "       '219106f5-0fd6-410d-8de2-ac50c820b8d7',\n",
       "       '45746841-9046-4417-a278-a4dff135df50',\n",
       "       'd8996e05-ad7e-4c65-b8a3-563ef9882903',\n",
       "       'b81172ae-b453-47a1-8418-ac8028cbe30f',\n",
       "       '2d921815-ebc0-46b3-ad01-e230fefb6126',\n",
       "       '7571dbc6-1b45-4ed9-820e-442cf7cbeeed',\n",
       "       'efb82bc2-da3b-4b5f-b3ac-5344aea73398',\n",
       "       'f76e5263-d4a9-4a5c-92ff-4c10d2a13591',\n",
       "       '38f31e36-70ca-43a9-a6eb-89cfbc108496',\n",
       "       'df6567f5-ee20-42e1-9665-5b55cac09644',\n",
       "       'decb4468-562f-4495-8cdf-e9ea1987a70d',\n",
       "       '72ba471b-f615-4ec9-be5d-16319c4e627d',\n",
       "       'eb105a6c-3a0b-4cf7-a695-47156e178e85',\n",
       "       'e5fbdd86-b933-4ea4-9ea5-fc1e07a9fe91',\n",
       "       'decb0e45-9b1d-4220-81b1-0bb338f8c9d3',\n",
       "       '32e70768-9597-4533-9ed9-a5a0b18ec66e',\n",
       "       'f6f856b5-14fd-4159-be14-d908bf0edce6',\n",
       "       '8e6c0bd7-879d-4eff-bc76-f174477057d4',\n",
       "       '2320b730-e82f-4044-937f-3d041b42380e',\n",
       "       'f4ee7bd1-30d2-46ca-bbe2-7d3ada4e078a',\n",
       "       'c14bc47c-3380-4d43-bdb7-fdde04942c22',\n",
       "       '8569a640-b571-40fd-b27e-62c75aaf520e',\n",
       "       '150c0f9a-28db-4f3a-93a7-731953b5e607',\n",
       "       '1d5bfabe-5a5f-4836-acfa-41853bf18855',\n",
       "       '47bef1df-b016-403b-95d6-b044271735cb',\n",
       "       'd27c8cac-c774-43a6-b8a1-2b173b40f1dd',\n",
       "       'f625d07c-db70-4941-9767-d0104492fdde',\n",
       "       '54922abe-4f50-4d70-a32d-d20b342bd5d0',\n",
       "       'f65c39d5-7b15-406d-9957-0a84a97f52e7',\n",
       "       '8a55aee7-ef9d-4c59-a102-87d19a6ea5b9',\n",
       "       '90ce0a69-e048-40d0-8fa9-e1186e31f535',\n",
       "       'fbcc35f1-c3f8-4326-a7ed-e6cb38c1f86a',\n",
       "       '88cad2f9-3f92-4a06-9dc7-3c585d41cd2c',\n",
       "       '0a66753f-bd8c-4283-acf0-4d2d69491955',\n",
       "       'ba7e66b9-c537-42fb-b2ad-104bcd09e4ca',\n",
       "       '6c17bc96-2240-4118-9f87-24c778f363f9',\n",
       "       '31345f9b-51d6-4294-a557-ff385c22ed51',\n",
       "       '9739b2a6-e010-4786-8d96-9e33e929dbca',\n",
       "       'b6599d35-44a0-48fc-ad9a-37b99ae50802',\n",
       "       'e50cae61-d112-4ff0-b267-f4bc660f0a08',\n",
       "       '991a0f62-c57f-4045-a794-be7df2f799e0',\n",
       "       '42a6a9b9-3dcd-4269-82e3-6fc625e7a449',\n",
       "       '5f67ac71-0081-4d4e-9b7d-12a31cfb1e9b',\n",
       "       '173db118-2c66-4dc1-9518-4a0399c6c22b',\n",
       "       'c0ce6292-e4df-4467-bc78-c559951e95ad',\n",
       "       'a5717426-db2e-4fd9-ad06-c551732d9e6d',\n",
       "       '260e3dd3-1cd6-4127-a2a1-5c0b6af69645',\n",
       "       '7e1bea93-fed9-42f9-9d2c-65acc4db5a78',\n",
       "       '57870da6-552c-44f1-89e7-b9869e02de71',\n",
       "       '5f00ddc5-31fa-4c26-90b2-d4cf60fcdf68',\n",
       "       'bf934a57-4180-46a2-a01d-77358fe4f45a',\n",
       "       '25392fc8-b375-4637-86a0-97ee75ea89ee',\n",
       "       '060d6489-2384-4d95-b518-26277611640b',\n",
       "       'a66a3b63-3859-4d2e-b7e9-b533d8e11fd7',\n",
       "       'fc5e0550-8d8f-422d-bf1c-770d9e469e88',\n",
       "       '72d96cb0-9e0b-4851-b42c-60e8705c6d72',\n",
       "       '045be921-ac25-4b76-8bc3-14dbfb2e296a',\n",
       "       'a3b9d741-6a52-415c-a436-30308dbd6e79',\n",
       "       'a20da2a7-5141-420d-847c-c2beee351c00',\n",
       "       '8bd019bf-42f2-4e06-b3a2-706ed67a531b',\n",
       "       '5cc02deb-d6b3-4074-a60d-0c2252e7479d',\n",
       "       'd5a4b360-288e-46d1-a536-b35839c66b50',\n",
       "       '3758ff83-e6ef-4874-ac42-db3724cd6223',\n",
       "       'f5fd06e6-fd29-476a-80c4-dfe0e8c2a49f',\n",
       "       '043d46e2-bcb1-46a4-ac59-e965bb649f3e',\n",
       "       'f47a9d35-b105-47bf-ad68-fcbf28fe27af',\n",
       "       'c5696969-221f-48f2-b153-0a6dd37def40',\n",
       "       '45e01f00-07fa-4d0e-8dd8-7dc86a0622cc',\n",
       "       'ebe017cf-5ae6-4e66-88fe-e83c4d605af1',\n",
       "       '41960f94-1ef0-4fa7-bb35-9ab3ff724c71',\n",
       "       'bf06c2af-3926-4347-a0ba-71a683fa0b76',\n",
       "       'bed0ef8e-6abb-404b-8571-7d78c7fe4310',\n",
       "       '3856692e-ceac-4db4-8478-814076b851f4',\n",
       "       'fb8b790d-a9d3-4855-8120-8b433fe7270f',\n",
       "       'd98d00ee-7537-42ed-9145-5def60385acf',\n",
       "       'fbcfacc5-5767-44e1-912b-6382b0b5deef',\n",
       "       'a578ca1c-5f44-4e75-bc27-ba1885771022',\n",
       "       '59b518f0-d8d1-4a48-a644-726a1b72c119',\n",
       "       '475161bf-bf0e-464c-b4a2-d24ede9f4b65',\n",
       "       'c85547f2-3c50-4695-9296-c32e9cf87583',\n",
       "       '24dc7e59-12e1-4948-858f-6572de014025',\n",
       "       '49a06b9f-d0c0-4abb-b010-d865f38e0416',\n",
       "       '1642cdf0-e47e-495a-96c8-59d995cfa532',\n",
       "       'a84af819-daf8-412c-bb51-b6b6fae92c43',\n",
       "       'f1c04ef5-a50a-44e4-88f8-6fb30d7ab247',\n",
       "       '28184c80-d683-41d5-983b-5b822ebde9ca',\n",
       "       '919a3362-a4f5-4658-9458-b0197434b141',\n",
       "       'a4225f13-7336-4609-b604-d8a923c414d7',\n",
       "       '59088dc8-387a-423c-b1dd-8bbde129c131',\n",
       "       '12d84a13-c846-468e-82df-f74e84a25645',\n",
       "       'cfe75fd7-5c04-4338-b031-3983f2b95e39',\n",
       "       '15a7ee7c-c793-4473-9e2d-d8d22163ea6d',\n",
       "       '29eec460-59d3-485a-9014-ea7431d737e5',\n",
       "       '202cc5f4-d635-4511-a544-51c516c2e04d',\n",
       "       '1bafe39b-5524-4e6f-aa9c-d80e5bebc2b3',\n",
       "       '8bc8857c-13e8-4623-8828-fb7f520642be',\n",
       "       'aef9e4ad-e963-4fa2-8ae7-edffc5488cdf',\n",
       "       'b0a2f2f6-663a-4bb9-ac50-3a3e784d9550',\n",
       "       'ab46f85a-f91d-4446-91cf-31e33c6eea7d',\n",
       "       '011e164a-3ed8-4a18-89a7-8b33f87dd91a',\n",
       "       'b32a0093-60c5-4f0b-aec3-a604f5840e69',\n",
       "       'c66366f7-5584-4b29-8eda-2907357f404a',\n",
       "       '50b9ad18-a09c-40fc-ba5e-03d6db4fbf21',\n",
       "       '9c15e436-03ce-402e-ad17-8fc535b019a3',\n",
       "       '04e591dd-1fa6-42f8-8aa6-446836251f27',\n",
       "       'b14d9529-640a-4d99-a0dd-46450b5221aa',\n",
       "       'd23c02fe-0043-400a-864f-7e4216fe3925',\n",
       "       'a3e38259-af00-4a3a-9d1a-e846324d1145',\n",
       "       'c15630dc-35da-4b38-8400-f455bbc2d058',\n",
       "       '4e03c063-e3a7-44ca-87ac-d259ddf5a9ac'], dtype=object)"
      ]
     },
     "execution_count": 11,
     "metadata": {},
     "output_type": "execute_result"
    }
   ],
   "source": [
    "df['Solution ID'].unique()"
   ]
  }
 ],
 "metadata": {
  "kernelspec": {
   "display_name": "Python 3",
   "language": "python",
   "name": "python3"
  },
  "language_info": {
   "codemirror_mode": {
    "name": "ipython",
    "version": 3
   },
   "file_extension": ".py",
   "mimetype": "text/x-python",
   "name": "python",
   "nbconvert_exporter": "python",
   "pygments_lexer": "ipython3",
   "version": "3.11.5"
  }
 },
 "nbformat": 4,
 "nbformat_minor": 2
}
