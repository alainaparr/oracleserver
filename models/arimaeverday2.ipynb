{
  "nbformat": 4,
  "nbformat_minor": 0,
  "metadata": {
    "colab": {
      "provenance": []
    },
    "kernelspec": {
      "name": "python3",
      "display_name": "Python 3"
    },
    "language_info": {
      "name": "python"
    }
  },
  "cells": [
    {
      "cell_type": "code",
      "source": [
        "from google.colab import drive\n",
        "drive.mount('/content/drive')"
      ],
      "metadata": {
        "id": "jJkAc3z_9Tlk",
        "colab": {
          "base_uri": "https://localhost:8080/"
        },
        "outputId": "7be964d1-d2c4-4845-e4bd-d517d0236adc"
      },
      "execution_count": 1,
      "outputs": [
        {
          "output_type": "stream",
          "name": "stdout",
          "text": [
            "Mounted at /content/drive\n"
          ]
        }
      ]
    },
    {
      "cell_type": "code",
      "source": [
        "pip install pmdarima"
      ],
      "metadata": {
        "id": "VROSeGjb9Vi1",
        "colab": {
          "base_uri": "https://localhost:8080/"
        },
        "outputId": "ab2f8f80-214f-44ac-a694-413ad05a6aa5"
      },
      "execution_count": 2,
      "outputs": [
        {
          "output_type": "stream",
          "name": "stdout",
          "text": [
            "Collecting pmdarima\n",
            "  Downloading pmdarima-2.0.4-cp310-cp310-manylinux_2_17_x86_64.manylinux2014_x86_64.manylinux_2_28_x86_64.whl (2.1 MB)\n",
            "\u001b[2K     \u001b[90m━━━━━━━━━━━━━━━━━━━━━━━━━━━━━━━━━━━━━━━━\u001b[0m \u001b[32m2.1/2.1 MB\u001b[0m \u001b[31m8.0 MB/s\u001b[0m eta \u001b[36m0:00:00\u001b[0m\n",
            "\u001b[?25hRequirement already satisfied: joblib>=0.11 in /usr/local/lib/python3.10/dist-packages (from pmdarima) (1.3.2)\n",
            "Requirement already satisfied: Cython!=0.29.18,!=0.29.31,>=0.29 in /usr/local/lib/python3.10/dist-packages (from pmdarima) (3.0.8)\n",
            "Requirement already satisfied: numpy>=1.21.2 in /usr/local/lib/python3.10/dist-packages (from pmdarima) (1.25.2)\n",
            "Requirement already satisfied: pandas>=0.19 in /usr/local/lib/python3.10/dist-packages (from pmdarima) (1.5.3)\n",
            "Requirement already satisfied: scikit-learn>=0.22 in /usr/local/lib/python3.10/dist-packages (from pmdarima) (1.2.2)\n",
            "Requirement already satisfied: scipy>=1.3.2 in /usr/local/lib/python3.10/dist-packages (from pmdarima) (1.11.4)\n",
            "Requirement already satisfied: statsmodels>=0.13.2 in /usr/local/lib/python3.10/dist-packages (from pmdarima) (0.14.1)\n",
            "Requirement already satisfied: urllib3 in /usr/local/lib/python3.10/dist-packages (from pmdarima) (2.0.7)\n",
            "Requirement already satisfied: setuptools!=50.0.0,>=38.6.0 in /usr/local/lib/python3.10/dist-packages (from pmdarima) (67.7.2)\n",
            "Requirement already satisfied: packaging>=17.1 in /usr/local/lib/python3.10/dist-packages (from pmdarima) (23.2)\n",
            "Requirement already satisfied: python-dateutil>=2.8.1 in /usr/local/lib/python3.10/dist-packages (from pandas>=0.19->pmdarima) (2.8.2)\n",
            "Requirement already satisfied: pytz>=2020.1 in /usr/local/lib/python3.10/dist-packages (from pandas>=0.19->pmdarima) (2023.4)\n",
            "Requirement already satisfied: threadpoolctl>=2.0.0 in /usr/local/lib/python3.10/dist-packages (from scikit-learn>=0.22->pmdarima) (3.2.0)\n",
            "Requirement already satisfied: patsy>=0.5.4 in /usr/local/lib/python3.10/dist-packages (from statsmodels>=0.13.2->pmdarima) (0.5.6)\n",
            "Requirement already satisfied: six in /usr/local/lib/python3.10/dist-packages (from patsy>=0.5.4->statsmodels>=0.13.2->pmdarima) (1.16.0)\n",
            "Installing collected packages: pmdarima\n",
            "Successfully installed pmdarima-2.0.4\n"
          ]
        }
      ]
    },
    {
      "cell_type": "code",
      "source": [
        "import os\n",
        "import tensorflow as tf\n",
        "import numpy as np\n",
        "import pandas as pd\n",
        "from sklearn.preprocessing import OneHotEncoder\n",
        "#https://www.youtube.com/watch?v=8FCDpFhd1zk"
      ],
      "metadata": {
        "id": "zJH0XbZ09YGw"
      },
      "execution_count": 3,
      "outputs": []
    },
    {
      "cell_type": "code",
      "execution_count": 4,
      "metadata": {
        "id": "7QTiXNbk9MiQ",
        "colab": {
          "base_uri": "https://localhost:8080/",
          "height": 256
        },
        "outputId": "85111a6e-d74a-41d9-cfc9-44fe5b7e374f"
      },
      "outputs": [
        {
          "output_type": "stream",
          "name": "stdout",
          "text": [
            "(573, 1)\n"
          ]
        },
        {
          "output_type": "execute_result",
          "data": {
            "text/plain": [
              "            Servers\n",
              "Date               \n",
              "2019-01-01      521\n",
              "2019-01-07     1683\n",
              "2019-01-14     2037\n",
              "2019-01-21      974\n",
              "2019-01-28      966"
            ],
            "text/html": [
              "\n",
              "  <div id=\"df-ab593a96-3992-47f7-b32b-5954e7a3a14d\" class=\"colab-df-container\">\n",
              "    <div>\n",
              "<style scoped>\n",
              "    .dataframe tbody tr th:only-of-type {\n",
              "        vertical-align: middle;\n",
              "    }\n",
              "\n",
              "    .dataframe tbody tr th {\n",
              "        vertical-align: top;\n",
              "    }\n",
              "\n",
              "    .dataframe thead th {\n",
              "        text-align: right;\n",
              "    }\n",
              "</style>\n",
              "<table border=\"1\" class=\"dataframe\">\n",
              "  <thead>\n",
              "    <tr style=\"text-align: right;\">\n",
              "      <th></th>\n",
              "      <th>Servers</th>\n",
              "    </tr>\n",
              "    <tr>\n",
              "      <th>Date</th>\n",
              "      <th></th>\n",
              "    </tr>\n",
              "  </thead>\n",
              "  <tbody>\n",
              "    <tr>\n",
              "      <th>2019-01-01</th>\n",
              "      <td>521</td>\n",
              "    </tr>\n",
              "    <tr>\n",
              "      <th>2019-01-07</th>\n",
              "      <td>1683</td>\n",
              "    </tr>\n",
              "    <tr>\n",
              "      <th>2019-01-14</th>\n",
              "      <td>2037</td>\n",
              "    </tr>\n",
              "    <tr>\n",
              "      <th>2019-01-21</th>\n",
              "      <td>974</td>\n",
              "    </tr>\n",
              "    <tr>\n",
              "      <th>2019-01-28</th>\n",
              "      <td>966</td>\n",
              "    </tr>\n",
              "  </tbody>\n",
              "</table>\n",
              "</div>\n",
              "    <div class=\"colab-df-buttons\">\n",
              "\n",
              "  <div class=\"colab-df-container\">\n",
              "    <button class=\"colab-df-convert\" onclick=\"convertToInteractive('df-ab593a96-3992-47f7-b32b-5954e7a3a14d')\"\n",
              "            title=\"Convert this dataframe to an interactive table.\"\n",
              "            style=\"display:none;\">\n",
              "\n",
              "  <svg xmlns=\"http://www.w3.org/2000/svg\" height=\"24px\" viewBox=\"0 -960 960 960\">\n",
              "    <path d=\"M120-120v-720h720v720H120Zm60-500h600v-160H180v160Zm220 220h160v-160H400v160Zm0 220h160v-160H400v160ZM180-400h160v-160H180v160Zm440 0h160v-160H620v160ZM180-180h160v-160H180v160Zm440 0h160v-160H620v160Z\"/>\n",
              "  </svg>\n",
              "    </button>\n",
              "\n",
              "  <style>\n",
              "    .colab-df-container {\n",
              "      display:flex;\n",
              "      gap: 12px;\n",
              "    }\n",
              "\n",
              "    .colab-df-convert {\n",
              "      background-color: #E8F0FE;\n",
              "      border: none;\n",
              "      border-radius: 50%;\n",
              "      cursor: pointer;\n",
              "      display: none;\n",
              "      fill: #1967D2;\n",
              "      height: 32px;\n",
              "      padding: 0 0 0 0;\n",
              "      width: 32px;\n",
              "    }\n",
              "\n",
              "    .colab-df-convert:hover {\n",
              "      background-color: #E2EBFA;\n",
              "      box-shadow: 0px 1px 2px rgba(60, 64, 67, 0.3), 0px 1px 3px 1px rgba(60, 64, 67, 0.15);\n",
              "      fill: #174EA6;\n",
              "    }\n",
              "\n",
              "    .colab-df-buttons div {\n",
              "      margin-bottom: 4px;\n",
              "    }\n",
              "\n",
              "    [theme=dark] .colab-df-convert {\n",
              "      background-color: #3B4455;\n",
              "      fill: #D2E3FC;\n",
              "    }\n",
              "\n",
              "    [theme=dark] .colab-df-convert:hover {\n",
              "      background-color: #434B5C;\n",
              "      box-shadow: 0px 1px 3px 1px rgba(0, 0, 0, 0.15);\n",
              "      filter: drop-shadow(0px 1px 2px rgba(0, 0, 0, 0.3));\n",
              "      fill: #FFFFFF;\n",
              "    }\n",
              "  </style>\n",
              "\n",
              "    <script>\n",
              "      const buttonEl =\n",
              "        document.querySelector('#df-ab593a96-3992-47f7-b32b-5954e7a3a14d button.colab-df-convert');\n",
              "      buttonEl.style.display =\n",
              "        google.colab.kernel.accessAllowed ? 'block' : 'none';\n",
              "\n",
              "      async function convertToInteractive(key) {\n",
              "        const element = document.querySelector('#df-ab593a96-3992-47f7-b32b-5954e7a3a14d');\n",
              "        const dataTable =\n",
              "          await google.colab.kernel.invokeFunction('convertToInteractive',\n",
              "                                                    [key], {});\n",
              "        if (!dataTable) return;\n",
              "\n",
              "        const docLinkHtml = 'Like what you see? Visit the ' +\n",
              "          '<a target=\"_blank\" href=https://colab.research.google.com/notebooks/data_table.ipynb>data table notebook</a>'\n",
              "          + ' to learn more about interactive tables.';\n",
              "        element.innerHTML = '';\n",
              "        dataTable['output_type'] = 'display_data';\n",
              "        await google.colab.output.renderOutput(dataTable, element);\n",
              "        const docLink = document.createElement('div');\n",
              "        docLink.innerHTML = docLinkHtml;\n",
              "        element.appendChild(docLink);\n",
              "      }\n",
              "    </script>\n",
              "  </div>\n",
              "\n",
              "\n",
              "<div id=\"df-e1ec09e3-b232-40ca-8b36-223f0fe08435\">\n",
              "  <button class=\"colab-df-quickchart\" onclick=\"quickchart('df-e1ec09e3-b232-40ca-8b36-223f0fe08435')\"\n",
              "            title=\"Suggest charts\"\n",
              "            style=\"display:none;\">\n",
              "\n",
              "<svg xmlns=\"http://www.w3.org/2000/svg\" height=\"24px\"viewBox=\"0 0 24 24\"\n",
              "     width=\"24px\">\n",
              "    <g>\n",
              "        <path d=\"M19 3H5c-1.1 0-2 .9-2 2v14c0 1.1.9 2 2 2h14c1.1 0 2-.9 2-2V5c0-1.1-.9-2-2-2zM9 17H7v-7h2v7zm4 0h-2V7h2v10zm4 0h-2v-4h2v4z\"/>\n",
              "    </g>\n",
              "</svg>\n",
              "  </button>\n",
              "\n",
              "<style>\n",
              "  .colab-df-quickchart {\n",
              "      --bg-color: #E8F0FE;\n",
              "      --fill-color: #1967D2;\n",
              "      --hover-bg-color: #E2EBFA;\n",
              "      --hover-fill-color: #174EA6;\n",
              "      --disabled-fill-color: #AAA;\n",
              "      --disabled-bg-color: #DDD;\n",
              "  }\n",
              "\n",
              "  [theme=dark] .colab-df-quickchart {\n",
              "      --bg-color: #3B4455;\n",
              "      --fill-color: #D2E3FC;\n",
              "      --hover-bg-color: #434B5C;\n",
              "      --hover-fill-color: #FFFFFF;\n",
              "      --disabled-bg-color: #3B4455;\n",
              "      --disabled-fill-color: #666;\n",
              "  }\n",
              "\n",
              "  .colab-df-quickchart {\n",
              "    background-color: var(--bg-color);\n",
              "    border: none;\n",
              "    border-radius: 50%;\n",
              "    cursor: pointer;\n",
              "    display: none;\n",
              "    fill: var(--fill-color);\n",
              "    height: 32px;\n",
              "    padding: 0;\n",
              "    width: 32px;\n",
              "  }\n",
              "\n",
              "  .colab-df-quickchart:hover {\n",
              "    background-color: var(--hover-bg-color);\n",
              "    box-shadow: 0 1px 2px rgba(60, 64, 67, 0.3), 0 1px 3px 1px rgba(60, 64, 67, 0.15);\n",
              "    fill: var(--button-hover-fill-color);\n",
              "  }\n",
              "\n",
              "  .colab-df-quickchart-complete:disabled,\n",
              "  .colab-df-quickchart-complete:disabled:hover {\n",
              "    background-color: var(--disabled-bg-color);\n",
              "    fill: var(--disabled-fill-color);\n",
              "    box-shadow: none;\n",
              "  }\n",
              "\n",
              "  .colab-df-spinner {\n",
              "    border: 2px solid var(--fill-color);\n",
              "    border-color: transparent;\n",
              "    border-bottom-color: var(--fill-color);\n",
              "    animation:\n",
              "      spin 1s steps(1) infinite;\n",
              "  }\n",
              "\n",
              "  @keyframes spin {\n",
              "    0% {\n",
              "      border-color: transparent;\n",
              "      border-bottom-color: var(--fill-color);\n",
              "      border-left-color: var(--fill-color);\n",
              "    }\n",
              "    20% {\n",
              "      border-color: transparent;\n",
              "      border-left-color: var(--fill-color);\n",
              "      border-top-color: var(--fill-color);\n",
              "    }\n",
              "    30% {\n",
              "      border-color: transparent;\n",
              "      border-left-color: var(--fill-color);\n",
              "      border-top-color: var(--fill-color);\n",
              "      border-right-color: var(--fill-color);\n",
              "    }\n",
              "    40% {\n",
              "      border-color: transparent;\n",
              "      border-right-color: var(--fill-color);\n",
              "      border-top-color: var(--fill-color);\n",
              "    }\n",
              "    60% {\n",
              "      border-color: transparent;\n",
              "      border-right-color: var(--fill-color);\n",
              "    }\n",
              "    80% {\n",
              "      border-color: transparent;\n",
              "      border-right-color: var(--fill-color);\n",
              "      border-bottom-color: var(--fill-color);\n",
              "    }\n",
              "    90% {\n",
              "      border-color: transparent;\n",
              "      border-bottom-color: var(--fill-color);\n",
              "    }\n",
              "  }\n",
              "</style>\n",
              "\n",
              "  <script>\n",
              "    async function quickchart(key) {\n",
              "      const quickchartButtonEl =\n",
              "        document.querySelector('#' + key + ' button');\n",
              "      quickchartButtonEl.disabled = true;  // To prevent multiple clicks.\n",
              "      quickchartButtonEl.classList.add('colab-df-spinner');\n",
              "      try {\n",
              "        const charts = await google.colab.kernel.invokeFunction(\n",
              "            'suggestCharts', [key], {});\n",
              "      } catch (error) {\n",
              "        console.error('Error during call to suggestCharts:', error);\n",
              "      }\n",
              "      quickchartButtonEl.classList.remove('colab-df-spinner');\n",
              "      quickchartButtonEl.classList.add('colab-df-quickchart-complete');\n",
              "    }\n",
              "    (() => {\n",
              "      let quickchartButtonEl =\n",
              "        document.querySelector('#df-e1ec09e3-b232-40ca-8b36-223f0fe08435 button');\n",
              "      quickchartButtonEl.style.display =\n",
              "        google.colab.kernel.accessAllowed ? 'block' : 'none';\n",
              "    })();\n",
              "  </script>\n",
              "</div>\n",
              "\n",
              "    </div>\n",
              "  </div>\n"
            ]
          },
          "metadata": {},
          "execution_count": 4
        }
      ],
      "source": [
        "data = {'Date': ['2019-01-01', '2019-01-07', '2019-01-14', '2019-01-21', '2019-01-28', '2019-02-04','2019-02-11', '2019-02-18', '2019-02-25','2019-03-04', '2019-03-11', '2019-03-18', '2019-03-25', '2019-04-01', '2019-04-07', '2019-04-14', '2019-04-21',\n",
        "                 '2019-04-28', '2019-05-05', '2019-05-12','2019-05-19','2019-05-26','2019-06-02','2019-06-09','2019-06-16','2019-06-23','2019-06-30',\n",
        "                 '2019-07-07','2019-07-14','2019-07-21','2019-07-28','2019-08-04','2019-08-11','2019-08-18','2019-08-25','2019-09-01','2019-09-08','2019-09-15','2019-09-22','2019-09-29','2019-10-06','2019-10-13','2019-10-20','2019-10-27','2019-11-03',\n",
        "                 '2019-11-10','2019-11-17','2019-11-24','2019-12-01','2019-12-08','2019-12-15','2019-12-22','2019-12-29', '2020-01-05', '2020-01-12', '2020-01-19', '2019-01-26', '2020-02-02','2020-02-09', '2020-02-16', '2020-02-23',\n",
        "                 '2020-03-01', '2020-03-08', '2020-03-15','2020-03-22', '2020-03-29', '2020-04-05', '2020-04-12', '2020-04-19', '2020-04-26', '2020-05-03', '2020-05-10', '2020-05-17', '2020-05-24', '2020-05-31', '2020-06-07',\n",
        "                 '2020-06-14', '2020-06-21', '2020-06-28', '2020-07-05', '2020-07-12', '2020-07-19', '2020-07-26', '2020-08-02', '2020-08-09', '2020-08-16', '2020-08-23', '2020-08-30', '2020-09-06', '2020-09-13', '2020-09-20', '2020-09-27',\n",
        "                 '2020-10-04', '2020-10-11', '2020-10-18','2020-10-25', '2020-11-01', '2020-11-08', '2020-11-15', '2020-11-22', '2020-11-29', '2020-12-06', '2020-12-13', '2020-12-20', '2020-12-27',\n",
        "                 '2021-01-03', '2021-01-10', '2021-01-17', '2021-01-24', '2021-01-31', '2021-02-07', '2021-02-14', '2021-02-21', '2021-02-28', '2021-03-07', '2021-03-14', '2021-03-21', '2021-03-28', '2021-04-04', '2021-04-11', '2021-04-18',\n",
        "                 '2021-04-25', '2021-05-02', '2021-05-09', '2021-05-16', '2021-05-23', '2021-05-30', '2021-06-06', '2021-06-13', '2021-06-20', '2021-06-27', '2021-07-04', '2021-07-11', '2021-07-18', '2021-07-25', '2021-08-01', '2021-08-08',\n",
        "                 '2021-08-15', '2021-08-22', '2021-08-29', '2021-09-05', '2021-09-12', '2021-09-19', '2021-09-26', '2021-10-03', '2021-10-10', '2021-10-17', '2021-10-24', '2021-10-31', '2021-11-07', '2021-11-14', '2021-11-21', '2021-11-28',\n",
        "                 '2021-12-05', '2021-12-12', '2021-12-19', '2021-12-26','2022-01-02', '2022-01-09', '2022-01-16', '2022-01-23', '2022-01-30', '2022-02-06', '2022-02-13', '2022-02-20', '2022-02-27', '2022-03-06', '2022-03-13', '2022-03-20',\n",
        "                 '2022-03-27', '2022-04-03', '2022-04-10', '2022-04-17', '2022-04-24', '2022-05-01', '2022-05-08', '2022-05-15', '2022-05-22', '2022-05-29', '2022-06-05', '2022-06-12', '2022-06-19', '2022-06-26', '2022-07-03', '2022-07-10',\n",
        "                 '2022-07-17', '2022-07-24', '2022-07-31', '2022-08-07', '2022-08-14', '2022-08-21', '2022-08-28', '2022-09-04', '2022-09-11', '2022-09-18', '2022-09-25', '2022-10-02', '2022-10-09', '2022-10-16', '2022-10-23', '2022-10-30',\n",
        "                 '2022-11-06', '2022-11-13', '2022-11-20', '2022-11-27', '2022-12-04', '2022-12-11', '2022-12-18', '2022-12-25','2020-01-06', '2020-01-07', '2020-01-08', '2020-01-09', '2020-01-10', '2020-01-11', '2020-01-12', '2020-01-13',\n",
        "                 '2020-01-14', '2020-01-15', '2020-01-16', '2020-01-17', '2020-01-18', '2020-01-19', '2020-01-20', '2020-01-21', '2020-01-22', '2020-01-23', '2020-01-24', '2020-01-25', '2020-01-26', '2020-01-27', '2020-01-28', '2020-01-29',\n",
        "                 '2020-01-30', '2020-01-31', '2020-02-01', '2020-02-02', '2020-02-03', '2020-02-04', '2020-02-05', '2020-02-06', '2020-02-07', '2020-02-08', '2020-02-09', '2020-02-10', '2020-02-11', '2020-02-12', '2020-02-13', '2020-02-14',\n",
        "                 '2020-02-15', '2020-02-16', '2020-02-17', '2020-02-18', '2020-02-19', '2020-02-20', '2020-02-21', '2020-02-22', '2020-02-23', '2020-02-24', '2020-02-25', '2020-02-26', '2020-02-27', '2020-02-28', '2020-02-29', '2020-03-01',\n",
        "                 '2020-03-02', '2020-03-03', '2020-03-04', '2020-03-05', '2020-03-06', '2020-03-07', '2020-03-08', '2020-03-09', '2020-03-10', '2020-03-11', '2020-03-12', '2020-03-13', '2020-03-14', '2020-03-15', '2020-03-16', '2020-03-17',\n",
        "                 '2020-03-18', '2020-03-19', '2020-03-20', '2020-03-21', '2020-03-22', '2020-03-23', '2020-03-24', '2020-03-25', '2020-03-26', '2020-03-27', '2020-03-28', '2020-03-29', '2020-03-30', '2020-03-31', '2020-04-01', '2020-04-02',\n",
        "                 '2020-04-03', '2020-04-04', '2020-04-05', '2020-04-06', '2020-04-07', '2020-04-08', '2020-04-09', '2020-04-10', '2020-04-11', '2020-04-12', '2020-04-13', '2020-04-14', '2020-04-15', '2020-04-16', '2020-04-17', '2020-04-18',\n",
        "                 '2020-04-19', '2020-04-20', '2020-04-21', '2020-04-22', '2020-04-23', '2020-04-24', '2020-04-25', '2020-04-26', '2020-04-27', '2020-04-28', '2020-04-29', '2020-04-30', '2020-05-01', '2020-05-02', '2020-05-03', '2020-05-04',\n",
        "                 '2020-05-05', '2020-05-06', '2020-05-07', '2020-05-08', '2020-05-09', '2020-05-10', '2020-05-11', '2020-05-12', '2020-05-13', '2020-05-14', '2020-05-15', '2020-05-16', '2020-05-17', '2020-05-18', '2020-05-19', '2020-05-20',\n",
        "                 '2020-05-21', '2020-05-22', '2020-05-23', '2020-05-24', '2020-05-25', '2020-05-26', '2020-05-27', '2020-05-28', '2020-05-29', '2020-05-30', '2020-05-31', '2020-06-01', '2020-06-02', '2020-06-03', '2020-06-04', '2020-06-05',\n",
        "                 '2020-06-06', '2020-06-07', '2020-06-08', '2020-06-09', '2020-06-10', '2020-06-11', '2020-06-12', '2020-06-13', '2020-06-14', '2020-06-15', '2020-06-16', '2020-06-17', '2020-06-18', '2020-06-19', '2020-06-20', '2020-06-21',\n",
        "                 '2020-06-22', '2020-06-23', '2020-06-24', '2020-06-25', '2020-06-26', '2020-06-27', '2020-06-28', '2020-06-29', '2020-06-30', '2020-07-01', '2020-07-02', '2020-07-03', '2020-07-04', '2020-07-05', '2020-07-06', '2020-07-07',\n",
        "                 '2020-07-08', '2020-07-09', '2020-07-10', '2020-07-11', '2020-07-12', '2020-07-13', '2020-07-14', '2020-07-15', '2020-07-16', '2020-07-17', '2020-07-18', '2020-07-19', '2020-07-20', '2020-07-21', '2020-07-22', '2020-07-23',\n",
        "                 '2020-07-24', '2020-07-25', '2020-07-26', '2020-07-27', '2020-07-28', '2020-07-29', '2020-07-30', '2020-07-31', '2020-08-01', '2020-08-02', '2020-08-03', '2020-08-04', '2020-08-05', '2020-08-06', '2020-08-07', '2020-08-08',\n",
        "                 '2020-08-09', '2020-08-10', '2020-08-11', '2020-08-12', '2020-08-13', '2020-08-14', '2020-08-15', '2020-08-16', '2020-08-17', '2020-08-18', '2020-08-19', '2020-08-20', '2020-08-21', '2020-08-22', '2020-08-23', '2020-08-24',\n",
        "                 '2020-08-25', '2020-08-26', '2020-08-27', '2020-08-28', '2020-08-29', '2020-08-30', '2020-08-31', '2020-09-01', '2020-09-02', '2020-09-03', '2020-09-04', '2020-09-05', '2020-09-06', '2020-09-07', '2020-09-08', '2020-09-09',\n",
        "                 '2020-09-10', '2020-09-11', '2020-09-12', '2020-09-13', '2020-09-14', '2020-09-15', '2020-09-16', '2020-09-17', '2020-09-18', '2020-09-19', '2020-09-20', '2020-09-21', '2020-09-22', '2020-09-23', '2020-09-24', '2020-09-25',\n",
        "                 '2020-09-26', '2020-09-27', '2020-09-28', '2020-09-29', '2020-09-30', '2020-10-01', '2020-10-02', '2020-10-03', '2020-10-04', '2020-10-05', '2020-10-06', '2020-10-07', '2020-10-08', '2020-10-09', '2020-10-10', '2020-10-11',\n",
        "                 '2020-10-12', '2020-10-13', '2020-10-14', '2020-10-15', '2020-10-16', '2020-10-17', '2020-10-18', '2020-10-19', '2020-10-20', '2020-10-21', '2020-10-22', '2020-10-23', '2020-10-24', '2020-10-25', '2020-10-26', '2020-10-27',\n",
        "                 '2020-10-28', '2020-10-29', '2020-10-30', '2020-10-31', '2020-11-01', '2020-11-02', '2020-11-03', '2020-11-04', '2020-11-05', '2020-11-06', '2020-11-07', '2020-11-08', '2020-11-09', '2020-11-10', '2020-11-11', '2020-11-12',\n",
        "                 '2020-11-13', '2020-11-14', '2020-11-15', '2020-11-16', '2020-11-17', '2020-11-18', '2020-11-19', '2020-11-20', '2020-11-21', '2020-11-22', '2020-11-23', '2020-11-24', '2020-11-25', '2020-11-26', '2020-11-27', '2020-11-28',\n",
        "                 '2020-11-29', '2020-11-30', '2020-12-01', '2020-12-02', '2020-12-03', '2020-12-04', '2020-12-05', '2020-12-06', '2020-12-07', '2020-12-08', '2020-12-09', '2020-12-10', '2020-12-11', '2020-12-12', '2020-12-13', '2020-12-14',\n",
        "                 '2020-12-15', '2020-12-16', '2020-12-17', '2020-12-18', '2020-12-19', '2020-12-20', '2020-12-21', '2020-12-22', '2020-12-23', '2020-12-24', '2020-12-25', '2020-12-26', '2020-12-27', '2020-12-28', '2020-12-29', '2020-12-30',\n",
        "                 '2020-12-31', '2021-01-01', '2021-01-02', '2021-01-03'\n",
        "],\n",
        "                      'Servers': [521, 1683, 2037, 974, 966, 1541, 1085, 1505, 1193, 1407, 878, 835, 593, 1184, 1265, 831, 686, 797, 1030, 1280, 1074, 618, 387, 446, 636, 548, 472, 863, 557, 904, 640, 655, 832, 606, 859,\n",
        "                                  269, 839, 421, 400, 307, 535, 358, 467, 442, 324, 555, 490, 282, 357, 458, 359, 53, 142, 758,  521, 455, 438, 326, 403, 516, 443, 478, 305, 563, 340, 413, 675, 485, 180, 165, 143, 237, 295, 320, 439,\n",
        "                                  448, 435, 140, 184, 326, 407, 533, 332, 244, 424, 439, 350, 226, 378, 308, 239, 303, 321, 416, 166, 357, 241, 412, 343, 90, 242, 373, 352, 181, 73, 279, 387, 523, 592, 342, 396, 1116, 375, 340, 395, 254,\n",
        "                                  325, 215, 198, 405, 241, 190, 249, 201, 286, 282, 265, 185, 231, 188, 219, 217, 125, 314, 100, 216, 320, 179, 360, 167, 220, 261, 245, 245, 202, 461, 222, 189, 232, 210, 147, 47, 153, 120, 131, 57, 14,\n",
        "                                  213, 217, 153, 192, 304, 152, 470, 240, 348, 197, 207, 232, 359, 291, 171, 225, 350, 211, 413, 181, 309, 185, 139, 457, 277, 362, 140, 392, 289, 234, 189, 135, 146, 246, 410, 261, 256, 234, 200, 152, 241,\n",
        "                                  269, 514, 191, 213, 231, 376, 233, 331, 206, 0, 0, 81, 151, 94, 155, 264, 0, 1, 61, 107, 162, 67, 110, 13, 0, 3, 64, 66, 255, 67, 0, 0, 95, 69, 101, 112, 61, 0, 0, 45, 44, 94, 108, 35, 0, 0, 56, 53, 80,\n",
        "                                  157, 57, 0, 7, 48, 163, 73, 71, 154, 0, 0, 77, 51, 53, 175, 87, 0, 0, 63, 75, 92, 135, 113, 0, 0, 125, 75, 26, 53, 25, 1, 0, 31, 83, 346, 60, 42, 1, 0, 65, 106, 69, 44, 51, 5, 0, 45, 38, 97, 112, 119, 2,\n",
        "                                  6, 132, 111, 117, 264, 45, 0, 0, 68, 136, 167, 61, 53, 0, 0, 51, 31, 28, 27, 43, 0, 0, 9, 96, 23, 19, 18, 0, 0, 25, 41, 36, 30, 6, 5, 0, 16, 36, 53, 89, 43, 0, 0, 45, 48, 65, 100, 37, 0, 0, 5, 61, 22, 78,\n",
        "                                  154, 0, 0, 123, 53, 39, 25, 199, 0, 235, 48, 27, 39, 41, 58, 0, 1, 184, 45, 117, 39, 49, 0, 0, 38, 8, 20, 21, 52, 1, 6, 12, 16, 86, 58, 5, 1, 0, 50, 51, 79, 104, 32, 10, 0, 69, 18, 58, 90, 172, 0, 5, 127,\n",
        "                                  132, 89, 102, 75, 3, 0, 65, 18, 72, 37, 140, 0, 0, 57, 44, 35, 64, 41, 3, 0, 158, 60, 34, 87, 84, 1, 4, 41, 80, 146, 23, 145, 0, 5, 35, 119, 58, 44, 49, 40, 0, 64, 60, 26, 51, 23, 2, 0, 28, 160, 136, 22,\n",
        "                                  32, 0, 0, 46, 55, 84, 24, 99, 0, 11, 56, 40, 40, 48, 39, 5, 0, 29, 119, 38, 72, 41, 4, 1, 129, 53, 51, 40, 47, 0, 0, 62, 71, 150, 75, 56, 2, 3, 17, 47, 55, 28, 16, 0, 0, 39, 77, 23, 164, 54, 0, 1, 73, 21,\n",
        "                                  38, 63, 45, 0, 0, 75, 80, 60, 85, 110, 2, 0, 106, 77, 30, 63, 67, 0, 0, 57, 25, 8, 0, 0, 0, 4, 56, 57, 50, 37, 32, 6, 0, 135, 63, 41, 44, 90, 0, 0, 129, 107, 25, 48, 43, 0, 0, 28, 112, 41, 0, 0, 0, 0, 18,\n",
        "                                  7, 30, 16, 2, 0, 2]}\n",
        "\n",
        "df = pd.DataFrame(data)\n",
        "df['Date'] = pd.to_datetime(df['Date'])\n",
        "df.set_index('Date', inplace=True)\n",
        "\n",
        "print(df.shape)\n",
        "df.head()"
      ]
    },
    {
      "cell_type": "code",
      "source": [
        "import matplotlib.pyplot as plt\n",
        "Servers = df['Servers']\n",
        "Servers.plot(figsize=(12,5))"
      ],
      "metadata": {
        "id": "BDZDgdlQ9bQD",
        "colab": {
          "base_uri": "https://localhost:8080/",
          "height": 465
        },
        "outputId": "1993aa51-7dd5-4091-850c-5b912d37e465"
      },
      "execution_count": 5,
      "outputs": [
        {
          "output_type": "execute_result",
          "data": {
            "text/plain": [
              "<Axes: xlabel='Date'>"
            ]
          },
          "metadata": {},
          "execution_count": 5
        },
        {
          "output_type": "display_data",
          "data": {
            "text/plain": [
              "<Figure size 1200x500 with 1 Axes>"
            ],
            "image/png": "[encoded data removed]"
          },
          "metadata": {}
        }
      ]
    },
    {
      "cell_type": "code",
      "source": [
        "from statsmodels.tsa.stattools import adfuller\n",
        "def ad_test(dataset):\n",
        "     dftest = adfuller(dataset, autolag = 'AIC')\n",
        "     print(\"1. ADF : \",dftest[0])\n",
        "     print(\"2. P-Value : \", dftest[1])\n",
        "     print(\"3. Num Of Lags : \", dftest[2])\n",
        "     print(\"4. Num Of Observations Used For ADF Regression:\",      dftest[3])\n",
        "     print(\"5. Critical Values :\")\n",
        "     for key, val in dftest[4].items():\n",
        "         print(\"\\t\",key, \": \", val)"
      ],
      "metadata": {
        "id": "ITBnkuVb9dK7"
      },
      "execution_count": 6,
      "outputs": []
    },
    {
      "cell_type": "code",
      "source": [
        "ad_test(df['Servers'])"
      ],
      "metadata": {
        "id": "M7O2-iVI9eyE",
        "colab": {
          "base_uri": "https://localhost:8080/"
        },
        "outputId": "afa76d06-2267-4436-970b-402fa394cb14"
      },
      "execution_count": 7,
      "outputs": [
        {
          "output_type": "stream",
          "name": "stdout",
          "text": [
            "1. ADF :  -5.98623383139282\n",
            "2. P-Value :  1.7894609078165675e-07\n",
            "3. Num Of Lags :  14\n",
            "4. Num Of Observations Used For ADF Regression: 558\n",
            "5. Critical Values :\n",
            "\t 1% :  -3.4421235439968862\n",
            "\t 5% :  -2.866733577794069\n",
            "\t 10% :  -2.569536010842615\n"
          ]
        }
      ]
    },
    {
      "cell_type": "code",
      "source": [
        "from pmdarima import auto_arima\n",
        "import warnings\n",
        "warnings.filterwarnings(\"ignore\")"
      ],
      "metadata": {
        "id": "JKG2--B49fpj"
      },
      "execution_count": 8,
      "outputs": []
    },
    {
      "cell_type": "code",
      "source": [
        "stepwise_fit = auto_arima(df['Servers'], trace=True,\n",
        "suppress_warnings=True)\n",
        "\n",
        "stepwise_fit.summary()"
      ],
      "metadata": {
        "id": "uin_OnpP9hyD",
        "colab": {
          "base_uri": "https://localhost:8080/",
          "height": 892
        },
        "outputId": "55c0f521-d43a-4970-f649-04b5bc36be45"
      },
      "execution_count": 9,
      "outputs": [
        {
          "output_type": "stream",
          "name": "stdout",
          "text": [
            "Performing stepwise search to minimize aic\n",
            " ARIMA(2,1,2)(0,0,0)[0] intercept   : AIC=7114.011, Time=1.54 sec\n",
            " ARIMA(0,1,0)(0,0,0)[0] intercept   : AIC=7340.495, Time=0.04 sec\n",
            " ARIMA(1,1,0)(0,0,0)[0] intercept   : AIC=7272.080, Time=0.24 sec\n",
            " ARIMA(0,1,1)(0,0,0)[0] intercept   : AIC=7128.626, Time=0.29 sec\n",
            " ARIMA(0,1,0)(0,0,0)[0]             : AIC=7338.517, Time=0.03 sec\n",
            " ARIMA(1,1,2)(0,0,0)[0] intercept   : AIC=7121.915, Time=0.96 sec\n",
            " ARIMA(2,1,1)(0,0,0)[0] intercept   : AIC=7114.681, Time=0.65 sec\n",
            " ARIMA(3,1,2)(0,0,0)[0] intercept   : AIC=inf, Time=1.52 sec\n",
            " ARIMA(2,1,3)(0,0,0)[0] intercept   : AIC=7122.742, Time=1.72 sec\n",
            " ARIMA(1,1,1)(0,0,0)[0] intercept   : AIC=7124.536, Time=0.50 sec\n",
            " ARIMA(1,1,3)(0,0,0)[0] intercept   : AIC=inf, Time=1.17 sec\n",
            " ARIMA(3,1,1)(0,0,0)[0] intercept   : AIC=7113.058, Time=1.89 sec\n",
            " ARIMA(3,1,0)(0,0,0)[0] intercept   : AIC=7155.295, Time=0.88 sec\n",
            " ARIMA(4,1,1)(0,0,0)[0] intercept   : AIC=7115.042, Time=2.34 sec\n",
            " ARIMA(2,1,0)(0,0,0)[0] intercept   : AIC=7207.204, Time=0.53 sec\n",
            " ARIMA(4,1,0)(0,0,0)[0] intercept   : AIC=7136.526, Time=0.61 sec\n",
            " ARIMA(4,1,2)(0,0,0)[0] intercept   : AIC=7116.952, Time=1.21 sec\n",
            " ARIMA(3,1,1)(0,0,0)[0]             : AIC=7114.720, Time=0.36 sec\n",
            "\n",
            "Best model:  ARIMA(3,1,1)(0,0,0)[0] intercept\n",
            "Total fit time: 16.536 seconds\n"
          ]
        },
        {
          "output_type": "execute_result",
          "data": {
            "text/plain": [
              "<class 'statsmodels.iolib.summary.Summary'>\n",
              "\"\"\"\n",
              "                               SARIMAX Results                                \n",
              "==============================================================================\n",
              "Dep. Variable:                      y   No. Observations:                  573\n",
              "Model:               SARIMAX(3, 1, 1)   Log Likelihood               -3550.529\n",
              "Date:                Tue, 13 Feb 2024   AIC                           7113.058\n",
              "Time:                        19:43:51   BIC                           7139.153\n",
              "Sample:                             0   HQIC                          7123.238\n",
              "                                - 573                                         \n",
              "Covariance Type:                  opg                                         \n",
              "==============================================================================\n",
              "                 coef    std err          z      P>|z|      [0.025      0.975]\n",
              "------------------------------------------------------------------------------\n",
              "intercept     -2.7623      1.632     -1.692      0.091      -5.962       0.437\n",
              "ar.L1          0.0257      0.039      0.658      0.511      -0.051       0.102\n",
              "ar.L2         -0.2094      0.025     -8.306      0.000      -0.259      -0.160\n",
              "ar.L3         -0.1114      0.032     -3.432      0.001      -0.175      -0.048\n",
              "ma.L1         -0.7213      0.033    -21.820      0.000      -0.786      -0.657\n",
              "sigma2      1.438e+04    338.555     42.462      0.000    1.37e+04     1.5e+04\n",
              "===================================================================================\n",
              "Ljung-Box (L1) (Q):                   1.54   Jarque-Bera (JB):              3785.71\n",
              "Prob(Q):                              0.21   Prob(JB):                         0.00\n",
              "Heteroskedasticity (H):               0.05   Skew:                             1.02\n",
              "Prob(H) (two-sided):                  0.00   Kurtosis:                        15.44\n",
              "===================================================================================\n",
              "\n",
              "Warnings:\n",
              "[1] Covariance matrix calculated using the outer product of gradients (complex-step).\n",
              "\"\"\""
            ],
            "text/html": [
              "<table class=\"simpletable\">\n",
              "<caption>SARIMAX Results</caption>\n",
              "<tr>\n",
              "  <th>Dep. Variable:</th>           <td>y</td>        <th>  No. Observations:  </th>    <td>573</td>   \n",
              "</tr>\n",
              "<tr>\n",
              "  <th>Model:</th>           <td>SARIMAX(3, 1, 1)</td> <th>  Log Likelihood     </th> <td>-3550.529</td>\n",
              "</tr>\n",
              "<tr>\n",
              "  <th>Date:</th>            <td>Tue, 13 Feb 2024</td> <th>  AIC                </th> <td>7113.058</td> \n",
              "</tr>\n",
              "<tr>\n",
              "  <th>Time:</th>                <td>19:43:51</td>     <th>  BIC                </th> <td>7139.153</td> \n",
              "</tr>\n",
              "<tr>\n",
              "  <th>Sample:</th>                  <td>0</td>        <th>  HQIC               </th> <td>7123.238</td> \n",
              "</tr>\n",
              "<tr>\n",
              "  <th></th>                      <td> - 573</td>      <th>                     </th>     <td> </td>    \n",
              "</tr>\n",
              "<tr>\n",
              "  <th>Covariance Type:</th>        <td>opg</td>       <th>                     </th>     <td> </td>    \n",
              "</tr>\n",
              "</table>\n",
              "<table class=\"simpletable\">\n",
              "<tr>\n",
              "      <td></td>         <th>coef</th>     <th>std err</th>      <th>z</th>      <th>P>|z|</th>  <th>[0.025</th>    <th>0.975]</th>  \n",
              "</tr>\n",
              "<tr>\n",
              "  <th>intercept</th> <td>   -2.7623</td> <td>    1.632</td> <td>   -1.692</td> <td> 0.091</td> <td>   -5.962</td> <td>    0.437</td>\n",
              "</tr>\n",
              "<tr>\n",
              "  <th>ar.L1</th>     <td>    0.0257</td> <td>    0.039</td> <td>    0.658</td> <td> 0.511</td> <td>   -0.051</td> <td>    0.102</td>\n",
              "</tr>\n",
              "<tr>\n",
              "  <th>ar.L2</th>     <td>   -0.2094</td> <td>    0.025</td> <td>   -8.306</td> <td> 0.000</td> <td>   -0.259</td> <td>   -0.160</td>\n",
              "</tr>\n",
              "<tr>\n",
              "  <th>ar.L3</th>     <td>   -0.1114</td> <td>    0.032</td> <td>   -3.432</td> <td> 0.001</td> <td>   -0.175</td> <td>   -0.048</td>\n",
              "</tr>\n",
              "<tr>\n",
              "  <th>ma.L1</th>     <td>   -0.7213</td> <td>    0.033</td> <td>  -21.820</td> <td> 0.000</td> <td>   -0.786</td> <td>   -0.657</td>\n",
              "</tr>\n",
              "<tr>\n",
              "  <th>sigma2</th>    <td> 1.438e+04</td> <td>  338.555</td> <td>   42.462</td> <td> 0.000</td> <td> 1.37e+04</td> <td>  1.5e+04</td>\n",
              "</tr>\n",
              "</table>\n",
              "<table class=\"simpletable\">\n",
              "<tr>\n",
              "  <th>Ljung-Box (L1) (Q):</th>     <td>1.54</td> <th>  Jarque-Bera (JB):  </th> <td>3785.71</td>\n",
              "</tr>\n",
              "<tr>\n",
              "  <th>Prob(Q):</th>                <td>0.21</td> <th>  Prob(JB):          </th>  <td>0.00</td>  \n",
              "</tr>\n",
              "<tr>\n",
              "  <th>Heteroskedasticity (H):</th> <td>0.05</td> <th>  Skew:              </th>  <td>1.02</td>  \n",
              "</tr>\n",
              "<tr>\n",
              "  <th>Prob(H) (two-sided):</th>    <td>0.00</td> <th>  Kurtosis:          </th>  <td>15.44</td> \n",
              "</tr>\n",
              "</table><br/><br/>Warnings:<br/>[1] Covariance matrix calculated using the outer product of gradients (complex-step)."
            ],
            "text/latex": "\\begin{center}\n\\begin{tabular}{lclc}\n\\toprule\n\\textbf{Dep. Variable:}          &        y         & \\textbf{  No. Observations:  } &    573      \\\\\n\\textbf{Model:}                  & SARIMAX(3, 1, 1) & \\textbf{  Log Likelihood     } & -3550.529   \\\\\n\\textbf{Date:}                   & Tue, 13 Feb 2024 & \\textbf{  AIC                } &  7113.058   \\\\\n\\textbf{Time:}                   &     19:43:51     & \\textbf{  BIC                } &  7139.153   \\\\\n\\textbf{Sample:}                 &        0         & \\textbf{  HQIC               } &  7123.238   \\\\\n\\textbf{}                        &       - 573      & \\textbf{                     } &             \\\\\n\\textbf{Covariance Type:}        &       opg        & \\textbf{                     } &             \\\\\n\\bottomrule\n\\end{tabular}\n\\begin{tabular}{lcccccc}\n                   & \\textbf{coef} & \\textbf{std err} & \\textbf{z} & \\textbf{P$> |$z$|$} & \\textbf{[0.025} & \\textbf{0.975]}  \\\\\n\\midrule\n\\textbf{intercept} &      -2.7623  &        1.632     &    -1.692  &         0.091        &       -5.962    &        0.437     \\\\\n\\textbf{ar.L1}     &       0.0257  &        0.039     &     0.658  &         0.511        &       -0.051    &        0.102     \\\\\n\\textbf{ar.L2}     &      -0.2094  &        0.025     &    -8.306  &         0.000        &       -0.259    &       -0.160     \\\\\n\\textbf{ar.L3}     &      -0.1114  &        0.032     &    -3.432  &         0.001        &       -0.175    &       -0.048     \\\\\n\\textbf{ma.L1}     &      -0.7213  &        0.033     &   -21.820  &         0.000        &       -0.786    &       -0.657     \\\\\n\\textbf{sigma2}    &    1.438e+04  &      338.555     &    42.462  &         0.000        &     1.37e+04    &      1.5e+04     \\\\\n\\bottomrule\n\\end{tabular}\n\\begin{tabular}{lclc}\n\\textbf{Ljung-Box (L1) (Q):}     & 1.54 & \\textbf{  Jarque-Bera (JB):  } & 3785.71  \\\\\n\\textbf{Prob(Q):}                & 0.21 & \\textbf{  Prob(JB):          } &   0.00   \\\\\n\\textbf{Heteroskedasticity (H):} & 0.05 & \\textbf{  Skew:              } &   1.02   \\\\\n\\textbf{Prob(H) (two-sided):}    & 0.00 & \\textbf{  Kurtosis:          } &  15.44   \\\\\n\\bottomrule\n\\end{tabular}\n%\\caption{SARIMAX Results}\n\\end{center}\n\nWarnings: \\newline\n [1] Covariance matrix calculated using the outer product of gradients (complex-step)."
          },
          "metadata": {},
          "execution_count": 9
        }
      ]
    },
    {
      "cell_type": "code",
      "source": [
        "from statsmodels.tsa.arima.model import ARIMA"
      ],
      "metadata": {
        "id": "kztk6H-_9jyb"
      },
      "execution_count": 10,
      "outputs": []
    },
    {
      "cell_type": "code",
      "source": [
        "print(df.shape)\n",
        "train = df.iloc[:-30]\n",
        "test = df.iloc[-30:]\n",
        "print(train.shape,test.shape)"
      ],
      "metadata": {
        "id": "DaHEVxsp9kaD",
        "colab": {
          "base_uri": "https://localhost:8080/"
        },
        "outputId": "3f73bcdc-87f1-4d21-f190-5513e77306a9"
      },
      "execution_count": 11,
      "outputs": [
        {
          "output_type": "stream",
          "name": "stdout",
          "text": [
            "(573, 1)\n",
            "(543, 1) (30, 1)\n"
          ]
        }
      ]
    },
    {
      "cell_type": "code",
      "source": [
        "model=ARIMA(train['Servers'],order=(3,1,1))\n",
        "model=model.fit()\n",
        "model.summary()"
      ],
      "metadata": {
        "id": "ixT1OFB99mhj",
        "colab": {
          "base_uri": "https://localhost:8080/",
          "height": 469
        },
        "outputId": "baa18d93-5eb2-4f00-a78f-59dc17042f74"
      },
      "execution_count": 12,
      "outputs": [
        {
          "output_type": "execute_result",
          "data": {
            "text/plain": [
              "<class 'statsmodels.iolib.summary.Summary'>\n",
              "\"\"\"\n",
              "                               SARIMAX Results                                \n",
              "==============================================================================\n",
              "Dep. Variable:                Servers   No. Observations:                  543\n",
              "Model:                 ARIMA(3, 1, 1)   Log Likelihood               -3379.169\n",
              "Date:                Tue, 13 Feb 2024   AIC                           6768.337\n",
              "Time:                        19:44:00   BIC                           6789.813\n",
              "Sample:                             0   HQIC                          6776.735\n",
              "                                - 543                                         \n",
              "Covariance Type:                  opg                                         \n",
              "==============================================================================\n",
              "                 coef    std err          z      P>|z|      [0.025      0.975]\n",
              "------------------------------------------------------------------------------\n",
              "ar.L1          0.0124      0.042      0.296      0.767      -0.070       0.095\n",
              "ar.L2         -0.2148      0.027     -8.104      0.000      -0.267      -0.163\n",
              "ar.L3         -0.1196      0.034     -3.538      0.000      -0.186      -0.053\n",
              "ma.L1         -0.7002      0.036    -19.412      0.000      -0.771      -0.630\n",
              "sigma2      1.518e+04    377.833     40.190      0.000    1.44e+04    1.59e+04\n",
              "===================================================================================\n",
              "Ljung-Box (L1) (Q):                   1.15   Jarque-Bera (JB):              3360.61\n",
              "Prob(Q):                              0.28   Prob(JB):                         0.00\n",
              "Heteroskedasticity (H):               0.06   Skew:                             1.06\n",
              "Prob(H) (two-sided):                  0.00   Kurtosis:                        15.01\n",
              "===================================================================================\n",
              "\n",
              "Warnings:\n",
              "[1] Covariance matrix calculated using the outer product of gradients (complex-step).\n",
              "\"\"\""
            ],
            "text/html": [
              "<table class=\"simpletable\">\n",
              "<caption>SARIMAX Results</caption>\n",
              "<tr>\n",
              "  <th>Dep. Variable:</th>        <td>Servers</td>     <th>  No. Observations:  </th>    <td>543</td>   \n",
              "</tr>\n",
              "<tr>\n",
              "  <th>Model:</th>            <td>ARIMA(3, 1, 1)</td>  <th>  Log Likelihood     </th> <td>-3379.169</td>\n",
              "</tr>\n",
              "<tr>\n",
              "  <th>Date:</th>            <td>Tue, 13 Feb 2024</td> <th>  AIC                </th> <td>6768.337</td> \n",
              "</tr>\n",
              "<tr>\n",
              "  <th>Time:</th>                <td>19:44:00</td>     <th>  BIC                </th> <td>6789.813</td> \n",
              "</tr>\n",
              "<tr>\n",
              "  <th>Sample:</th>                  <td>0</td>        <th>  HQIC               </th> <td>6776.735</td> \n",
              "</tr>\n",
              "<tr>\n",
              "  <th></th>                      <td> - 543</td>      <th>                     </th>     <td> </td>    \n",
              "</tr>\n",
              "<tr>\n",
              "  <th>Covariance Type:</th>        <td>opg</td>       <th>                     </th>     <td> </td>    \n",
              "</tr>\n",
              "</table>\n",
              "<table class=\"simpletable\">\n",
              "<tr>\n",
              "     <td></td>       <th>coef</th>     <th>std err</th>      <th>z</th>      <th>P>|z|</th>  <th>[0.025</th>    <th>0.975]</th>  \n",
              "</tr>\n",
              "<tr>\n",
              "  <th>ar.L1</th>  <td>    0.0124</td> <td>    0.042</td> <td>    0.296</td> <td> 0.767</td> <td>   -0.070</td> <td>    0.095</td>\n",
              "</tr>\n",
              "<tr>\n",
              "  <th>ar.L2</th>  <td>   -0.2148</td> <td>    0.027</td> <td>   -8.104</td> <td> 0.000</td> <td>   -0.267</td> <td>   -0.163</td>\n",
              "</tr>\n",
              "<tr>\n",
              "  <th>ar.L3</th>  <td>   -0.1196</td> <td>    0.034</td> <td>   -3.538</td> <td> 0.000</td> <td>   -0.186</td> <td>   -0.053</td>\n",
              "</tr>\n",
              "<tr>\n",
              "  <th>ma.L1</th>  <td>   -0.7002</td> <td>    0.036</td> <td>  -19.412</td> <td> 0.000</td> <td>   -0.771</td> <td>   -0.630</td>\n",
              "</tr>\n",
              "<tr>\n",
              "  <th>sigma2</th> <td> 1.518e+04</td> <td>  377.833</td> <td>   40.190</td> <td> 0.000</td> <td> 1.44e+04</td> <td> 1.59e+04</td>\n",
              "</tr>\n",
              "</table>\n",
              "<table class=\"simpletable\">\n",
              "<tr>\n",
              "  <th>Ljung-Box (L1) (Q):</th>     <td>1.15</td> <th>  Jarque-Bera (JB):  </th> <td>3360.61</td>\n",
              "</tr>\n",
              "<tr>\n",
              "  <th>Prob(Q):</th>                <td>0.28</td> <th>  Prob(JB):          </th>  <td>0.00</td>  \n",
              "</tr>\n",
              "<tr>\n",
              "  <th>Heteroskedasticity (H):</th> <td>0.06</td> <th>  Skew:              </th>  <td>1.06</td>  \n",
              "</tr>\n",
              "<tr>\n",
              "  <th>Prob(H) (two-sided):</th>    <td>0.00</td> <th>  Kurtosis:          </th>  <td>15.01</td> \n",
              "</tr>\n",
              "</table><br/><br/>Warnings:<br/>[1] Covariance matrix calculated using the outer product of gradients (complex-step)."
            ],
            "text/latex": "\\begin{center}\n\\begin{tabular}{lclc}\n\\toprule\n\\textbf{Dep. Variable:}          &     Servers      & \\textbf{  No. Observations:  } &    543      \\\\\n\\textbf{Model:}                  &  ARIMA(3, 1, 1)  & \\textbf{  Log Likelihood     } & -3379.169   \\\\\n\\textbf{Date:}                   & Tue, 13 Feb 2024 & \\textbf{  AIC                } &  6768.337   \\\\\n\\textbf{Time:}                   &     19:44:00     & \\textbf{  BIC                } &  6789.813   \\\\\n\\textbf{Sample:}                 &        0         & \\textbf{  HQIC               } &  6776.735   \\\\\n\\textbf{}                        &       - 543      & \\textbf{                     } &             \\\\\n\\textbf{Covariance Type:}        &       opg        & \\textbf{                     } &             \\\\\n\\bottomrule\n\\end{tabular}\n\\begin{tabular}{lcccccc}\n                & \\textbf{coef} & \\textbf{std err} & \\textbf{z} & \\textbf{P$> |$z$|$} & \\textbf{[0.025} & \\textbf{0.975]}  \\\\\n\\midrule\n\\textbf{ar.L1}  &       0.0124  &        0.042     &     0.296  &         0.767        &       -0.070    &        0.095     \\\\\n\\textbf{ar.L2}  &      -0.2148  &        0.027     &    -8.104  &         0.000        &       -0.267    &       -0.163     \\\\\n\\textbf{ar.L3}  &      -0.1196  &        0.034     &    -3.538  &         0.000        &       -0.186    &       -0.053     \\\\\n\\textbf{ma.L1}  &      -0.7002  &        0.036     &   -19.412  &         0.000        &       -0.771    &       -0.630     \\\\\n\\textbf{sigma2} &    1.518e+04  &      377.833     &    40.190  &         0.000        &     1.44e+04    &     1.59e+04     \\\\\n\\bottomrule\n\\end{tabular}\n\\begin{tabular}{lclc}\n\\textbf{Ljung-Box (L1) (Q):}     & 1.15 & \\textbf{  Jarque-Bera (JB):  } & 3360.61  \\\\\n\\textbf{Prob(Q):}                & 0.28 & \\textbf{  Prob(JB):          } &   0.00   \\\\\n\\textbf{Heteroskedasticity (H):} & 0.06 & \\textbf{  Skew:              } &   1.06   \\\\\n\\textbf{Prob(H) (two-sided):}    & 0.00 & \\textbf{  Kurtosis:          } &  15.01   \\\\\n\\bottomrule\n\\end{tabular}\n%\\caption{SARIMAX Results}\n\\end{center}\n\nWarnings: \\newline\n [1] Covariance matrix calculated using the outer product of gradients (complex-step)."
          },
          "metadata": {},
          "execution_count": 12
        }
      ]
    },
    {
      "cell_type": "code",
      "source": [
        "start=len(train)\n",
        "end=len(train)+len(test)-1\n",
        "pred=model.predict(start=start,end=end,typ='levels')\n",
        "pred.index=df.index[start:end+1]\n",
        "print(pred)"
      ],
      "metadata": {
        "id": "UPR4nD6r9oJL",
        "colab": {
          "base_uri": "https://localhost:8080/"
        },
        "outputId": "74d326a0-76f6-48aa-c411-7f8a9cb4b1ed"
      },
      "execution_count": 13,
      "outputs": [
        {
          "output_type": "stream",
          "name": "stdout",
          "text": [
            "Date\n",
            "2020-12-05    33.868264\n",
            "2020-12-06    36.520590\n",
            "2020-12-07    36.750303\n",
            "2020-12-08    35.959924\n",
            "2020-12-09    35.583492\n",
            "2020-12-10    35.721121\n",
            "2020-12-11    35.898238\n",
            "2020-12-12    35.915902\n",
            "2020-12-13    35.861611\n",
            "2020-12-14    35.835956\n",
            "2020-12-15    35.845186\n",
            "2020-12-16    35.857306\n",
            "2020-12-17    35.858543\n",
            "2020-12-18    35.854851\n",
            "2020-12-19    35.853089\n",
            "2020-12-20    35.853713\n",
            "2020-12-21    35.854540\n",
            "2020-12-22    35.854627\n",
            "2020-12-23    35.854376\n",
            "2020-12-24    35.854255\n",
            "2020-12-25    35.854297\n",
            "2020-12-26    35.854354\n",
            "2020-12-27    35.854360\n",
            "2020-12-28    35.854343\n",
            "2020-12-29    35.854335\n",
            "2020-12-30    35.854337\n",
            "2020-12-31    35.854341\n",
            "2021-01-01    35.854342\n",
            "2021-01-02    35.854341\n",
            "2021-01-03    35.854340\n",
            "Name: predicted_mean, dtype: float64\n"
          ]
        }
      ]
    },
    {
      "cell_type": "code",
      "source": [
        "pred.plot(legend=True)\n",
        "test['Servers'].plot(legend=True)"
      ],
      "metadata": {
        "id": "qsrShMmd9pvz",
        "colab": {
          "base_uri": "https://localhost:8080/",
          "height": 517
        },
        "outputId": "c0b23aff-5773-46b4-cc0b-9bdfc40dcf85"
      },
      "execution_count": 14,
      "outputs": [
        {
          "output_type": "execute_result",
          "data": {
            "text/plain": [
              "<Axes: xlabel='Date'>"
            ]
          },
          "metadata": {},
          "execution_count": 14
        },
        {
          "output_type": "display_data",
          "data": {
            "text/plain": [
              "<Figure size 640x480 with 1 Axes>"
            ],
            "image/png": "[encoded data removed]"
          },
          "metadata": {}
        }
      ]
    }
  ]
}